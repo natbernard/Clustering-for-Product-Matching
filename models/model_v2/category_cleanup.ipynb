{
 "cells": [
  {
   "attachments": {},
   "cell_type": "markdown",
   "metadata": {},
   "source": [
    "# **Category Cleanup**"
   ]
  },
  {
   "attachments": {},
   "cell_type": "markdown",
   "metadata": {},
   "source": [
    "## Importing packages"
   ]
  },
  {
   "cell_type": "code",
   "execution_count": 1,
   "metadata": {},
   "outputs": [],
   "source": [
    "import pandas as pd\n",
    "import numpy as np\n",
    "import re\n",
    "from difflib import SequenceMatcher, get_close_matches\n",
    "\n",
    "import warnings\n",
    "warnings.filterwarnings(\"ignore\")"
   ]
  },
  {
   "cell_type": "code",
   "execution_count": 2,
   "metadata": {},
   "outputs": [
    {
     "data": {
      "text/html": [
       "<div>\n",
       "<style scoped>\n",
       "    .dataframe tbody tr th:only-of-type {\n",
       "        vertical-align: middle;\n",
       "    }\n",
       "\n",
       "    .dataframe tbody tr th {\n",
       "        vertical-align: top;\n",
       "    }\n",
       "\n",
       "    .dataframe thead th {\n",
       "        text-align: right;\n",
       "    }\n",
       "</style>\n",
       "<table border=\"1\" class=\"dataframe\">\n",
       "  <thead>\n",
       "    <tr style=\"text-align: right;\">\n",
       "      <th></th>\n",
       "      <th>Category</th>\n",
       "      <th>Product Name</th>\n",
       "      <th>Type</th>\n",
       "      <th>Weight</th>\n",
       "      <th>Carton Size</th>\n",
       "      <th>Distributor</th>\n",
       "      <th>Product Code</th>\n",
       "      <th>Product Id</th>\n",
       "      <th>Distributor Type</th>\n",
       "      <th>Manufacturer</th>\n",
       "      <th>Industry</th>\n",
       "      <th>Sub category</th>\n",
       "    </tr>\n",
       "  </thead>\n",
       "  <tbody>\n",
       "    <tr>\n",
       "      <th>0</th>\n",
       "      <td>Minerals and Supplements</td>\n",
       "      <td>Aviboost Aqua Block</td>\n",
       "      <td>1kg</td>\n",
       "      <td>1.0</td>\n",
       "      <td>1</td>\n",
       "      <td>Vital Animal Health</td>\n",
       "      <td>ANP001A</td>\n",
       "      <td>2672</td>\n",
       "      <td>1</td>\n",
       "      <td>Vital Animal Health</td>\n",
       "      <td>Agriculture</td>\n",
       "      <td>NaN</td>\n",
       "    </tr>\n",
       "    <tr>\n",
       "      <th>1</th>\n",
       "      <td>Minerals and Supplements</td>\n",
       "      <td>Aviboost CL-X Blue</td>\n",
       "      <td>1lt</td>\n",
       "      <td>1.0</td>\n",
       "      <td>1</td>\n",
       "      <td>Vital Animal Health</td>\n",
       "      <td>ANP061A</td>\n",
       "      <td>2674</td>\n",
       "      <td>1</td>\n",
       "      <td>Vital Animal Health</td>\n",
       "      <td>Agriculture</td>\n",
       "      <td>NaN</td>\n",
       "    </tr>\n",
       "    <tr>\n",
       "      <th>2</th>\n",
       "      <td>Minerals and Supplements</td>\n",
       "      <td>Aviboost Nutri Block</td>\n",
       "      <td>1kg</td>\n",
       "      <td>1.0</td>\n",
       "      <td>1</td>\n",
       "      <td>Vital Animal Health</td>\n",
       "      <td>ANP062A</td>\n",
       "      <td>2676</td>\n",
       "      <td>1</td>\n",
       "      <td>Vital Animal Health</td>\n",
       "      <td>Agriculture</td>\n",
       "      <td>NaN</td>\n",
       "    </tr>\n",
       "    <tr>\n",
       "      <th>3</th>\n",
       "      <td>Minerals and Supplements</td>\n",
       "      <td>Aviboost Spectrum</td>\n",
       "      <td>1lt</td>\n",
       "      <td>1.0</td>\n",
       "      <td>1</td>\n",
       "      <td>Vital Animal Health</td>\n",
       "      <td>ANP063A</td>\n",
       "      <td>2677</td>\n",
       "      <td>1</td>\n",
       "      <td>Vital Animal Health</td>\n",
       "      <td>Agriculture</td>\n",
       "      <td>NaN</td>\n",
       "    </tr>\n",
       "    <tr>\n",
       "      <th>4</th>\n",
       "      <td>Minerals and Supplements</td>\n",
       "      <td>Aviboost Poultry Tonic</td>\n",
       "      <td>1lt</td>\n",
       "      <td>1.0</td>\n",
       "      <td>1</td>\n",
       "      <td>Vital Animal Health</td>\n",
       "      <td>ANP003A</td>\n",
       "      <td>2678</td>\n",
       "      <td>1</td>\n",
       "      <td>Vital Animal Health</td>\n",
       "      <td>Agriculture</td>\n",
       "      <td>NaN</td>\n",
       "    </tr>\n",
       "  </tbody>\n",
       "</table>\n",
       "</div>"
      ],
      "text/plain": [
       "                   Category            Product Name Type  Weight  Carton Size   \n",
       "0  Minerals and Supplements     Aviboost Aqua Block  1kg     1.0            1  \\\n",
       "1  Minerals and Supplements      Aviboost CL-X Blue  1lt     1.0            1   \n",
       "2  Minerals and Supplements    Aviboost Nutri Block  1kg     1.0            1   \n",
       "3  Minerals and Supplements       Aviboost Spectrum  1lt     1.0            1   \n",
       "4  Minerals and Supplements  Aviboost Poultry Tonic  1lt     1.0            1   \n",
       "\n",
       "           Distributor Product Code  Product Id  Distributor Type   \n",
       "0  Vital Animal Health      ANP001A        2672                 1  \\\n",
       "1  Vital Animal Health      ANP061A        2674                 1   \n",
       "2  Vital Animal Health      ANP062A        2676                 1   \n",
       "3  Vital Animal Health      ANP063A        2677                 1   \n",
       "4  Vital Animal Health      ANP003A        2678                 1   \n",
       "\n",
       "          Manufacturer     Industry Sub category  \n",
       "0  Vital Animal Health  Agriculture          NaN  \n",
       "1  Vital Animal Health  Agriculture          NaN  \n",
       "2  Vital Animal Health  Agriculture          NaN  \n",
       "3  Vital Animal Health  Agriculture          NaN  \n",
       "4  Vital Animal Health  Agriculture          NaN  "
      ]
     },
     "execution_count": 2,
     "metadata": {},
     "output_type": "execute_result"
    }
   ],
   "source": [
    "# loading the product list\n",
    "iprocure_prods_df = pd.read_excel('/home/natasha/Documents/Iprocure/Clustering-for-Product-Matching/data/data_v2/product_list.xlsx')\n",
    "cols = iprocure_prods_df.columns[:15]\n",
    "iprocure_prods_df = iprocure_prods_df[cols]\n",
    "iprocure_prods_df.drop(['Unit Cost', 'Unnamed: 10', 'Active'], axis = 1, inplace = True)\n",
    "\n",
    "# dropping product_name duplicates\n",
    "iprocure_prods_df = iprocure_prods_df.drop_duplicates(subset=['Product Name'], keep='first').reset_index(drop=True)\n",
    "# iprocure_prods_df['combined_product_name'] = iprocure_prods_df[['Product Name', 'Manufacturer']].apply(lambda x: '; '.join(x.fillna('').astype(str)) if x.notna().any() else '', axis = 1)\n",
    "\n",
    "pd.set_option('display.max_columns',None)\n",
    "iprocure_prods_df.head()"
   ]
  },
  {
   "cell_type": "code",
   "execution_count": 3,
   "metadata": {},
   "outputs": [
    {
     "data": {
      "text/plain": [
       "(4771, 12)"
      ]
     },
     "execution_count": 3,
     "metadata": {},
     "output_type": "execute_result"
    }
   ],
   "source": [
    "# size of dataset\n",
    "iprocure_prods_df.shape"
   ]
  },
  {
   "cell_type": "code",
   "execution_count": 4,
   "metadata": {},
   "outputs": [
    {
     "data": {
      "text/html": [
       "<div>\n",
       "<style scoped>\n",
       "    .dataframe tbody tr th:only-of-type {\n",
       "        vertical-align: middle;\n",
       "    }\n",
       "\n",
       "    .dataframe tbody tr th {\n",
       "        vertical-align: top;\n",
       "    }\n",
       "\n",
       "    .dataframe thead th {\n",
       "        text-align: right;\n",
       "    }\n",
       "</style>\n",
       "<table border=\"1\" class=\"dataframe\">\n",
       "  <thead>\n",
       "    <tr style=\"text-align: right;\">\n",
       "      <th></th>\n",
       "      <th>product_name</th>\n",
       "      <th>category_name</th>\n",
       "      <th>sub_category</th>\n",
       "    </tr>\n",
       "  </thead>\n",
       "  <tbody>\n",
       "    <tr>\n",
       "      <th>0</th>\n",
       "      <td>magazine east african</td>\n",
       "      <td>locall</td>\n",
       "      <td>NaN</td>\n",
       "    </tr>\n",
       "    <tr>\n",
       "      <th>1</th>\n",
       "      <td>absolute</td>\n",
       "      <td>local</td>\n",
       "      <td>NaN</td>\n",
       "    </tr>\n",
       "    <tr>\n",
       "      <th>2</th>\n",
       "      <td>pole double c63</td>\n",
       "      <td>MCBs</td>\n",
       "      <td>NaN</td>\n",
       "    </tr>\n",
       "    <tr>\n",
       "      <th>3</th>\n",
       "      <td>starter j</td>\n",
       "      <td>unga</td>\n",
       "      <td>NaN</td>\n",
       "    </tr>\n",
       "    <tr>\n",
       "      <th>4</th>\n",
       "      <td>mola feeds</td>\n",
       "      <td>malezi</td>\n",
       "      <td>NaN</td>\n",
       "    </tr>\n",
       "  </tbody>\n",
       "</table>\n",
       "</div>"
      ],
      "text/plain": [
       "            product_name category_name sub_category\n",
       "0  magazine east african        locall          NaN\n",
       "1               absolute         local          NaN\n",
       "2        pole double c63          MCBs          NaN\n",
       "3             starter j           unga          NaN\n",
       "4             mola feeds        malezi          NaN"
      ]
     },
     "execution_count": 4,
     "metadata": {},
     "output_type": "execute_result"
    }
   ],
   "source": [
    "# loading category data\n",
    "category_df = pd.read_csv('/home/natasha/Documents/Iprocure/Clustering-for-Product-Matching/data/data_v2/category_data.csv')\n",
    "\n",
    "# dropping duplicates and renaning col\n",
    "category_df = category_df.drop_duplicates(subset=['correct_product_match'], keep='first').reset_index(drop=True)\n",
    "category_df.rename(columns={'correct_product_match': 'product_name'},inplace=True)\n",
    "category_df.head()"
   ]
  },
  {
   "cell_type": "code",
   "execution_count": 5,
   "metadata": {},
   "outputs": [
    {
     "data": {
      "text/plain": [
       "(22596, 3)"
      ]
     },
     "execution_count": 5,
     "metadata": {},
     "output_type": "execute_result"
    }
   ],
   "source": [
    "# size of dataset\n",
    "category_df.shape"
   ]
  },
  {
   "cell_type": "code",
   "execution_count": 6,
   "metadata": {},
   "outputs": [
    {
     "data": {
      "text/plain": [
       "product_name         0\n",
       "category_name        3\n",
       "sub_category     22409\n",
       "dtype: int64"
      ]
     },
     "execution_count": 6,
     "metadata": {},
     "output_type": "execute_result"
    }
   ],
   "source": [
    "category_df.isna().sum()"
   ]
  },
  {
   "cell_type": "code",
   "execution_count": 7,
   "metadata": {},
   "outputs": [
    {
     "data": {
      "text/html": [
       "<div>\n",
       "<style scoped>\n",
       "    .dataframe tbody tr th:only-of-type {\n",
       "        vertical-align: middle;\n",
       "    }\n",
       "\n",
       "    .dataframe tbody tr th {\n",
       "        vertical-align: top;\n",
       "    }\n",
       "\n",
       "    .dataframe thead th {\n",
       "        text-align: right;\n",
       "    }\n",
       "</style>\n",
       "<table border=\"1\" class=\"dataframe\">\n",
       "  <thead>\n",
       "    <tr style=\"text-align: right;\">\n",
       "      <th></th>\n",
       "      <th>Category</th>\n",
       "      <th>product_name</th>\n",
       "      <th>Type</th>\n",
       "      <th>Weight</th>\n",
       "      <th>Carton Size</th>\n",
       "      <th>Distributor</th>\n",
       "      <th>Product Code</th>\n",
       "      <th>Product Id</th>\n",
       "      <th>Distributor Type</th>\n",
       "      <th>Manufacturer</th>\n",
       "      <th>Industry</th>\n",
       "      <th>Sub category</th>\n",
       "    </tr>\n",
       "  </thead>\n",
       "  <tbody>\n",
       "    <tr>\n",
       "      <th>0</th>\n",
       "      <td>minerals and supplements</td>\n",
       "      <td>aviboost aqua block</td>\n",
       "      <td>1kg</td>\n",
       "      <td>1.0</td>\n",
       "      <td>1</td>\n",
       "      <td>Vital Animal Health</td>\n",
       "      <td>ANP001A</td>\n",
       "      <td>2672</td>\n",
       "      <td>1</td>\n",
       "      <td>Vital Animal Health</td>\n",
       "      <td>Agriculture</td>\n",
       "      <td>NaN</td>\n",
       "    </tr>\n",
       "    <tr>\n",
       "      <th>1</th>\n",
       "      <td>minerals and supplements</td>\n",
       "      <td>aviboost cl-x blue</td>\n",
       "      <td>1lt</td>\n",
       "      <td>1.0</td>\n",
       "      <td>1</td>\n",
       "      <td>Vital Animal Health</td>\n",
       "      <td>ANP061A</td>\n",
       "      <td>2674</td>\n",
       "      <td>1</td>\n",
       "      <td>Vital Animal Health</td>\n",
       "      <td>Agriculture</td>\n",
       "      <td>NaN</td>\n",
       "    </tr>\n",
       "    <tr>\n",
       "      <th>2</th>\n",
       "      <td>minerals and supplements</td>\n",
       "      <td>aviboost nutri block</td>\n",
       "      <td>1kg</td>\n",
       "      <td>1.0</td>\n",
       "      <td>1</td>\n",
       "      <td>Vital Animal Health</td>\n",
       "      <td>ANP062A</td>\n",
       "      <td>2676</td>\n",
       "      <td>1</td>\n",
       "      <td>Vital Animal Health</td>\n",
       "      <td>Agriculture</td>\n",
       "      <td>NaN</td>\n",
       "    </tr>\n",
       "    <tr>\n",
       "      <th>3</th>\n",
       "      <td>minerals and supplements</td>\n",
       "      <td>aviboost spectrum</td>\n",
       "      <td>1lt</td>\n",
       "      <td>1.0</td>\n",
       "      <td>1</td>\n",
       "      <td>Vital Animal Health</td>\n",
       "      <td>ANP063A</td>\n",
       "      <td>2677</td>\n",
       "      <td>1</td>\n",
       "      <td>Vital Animal Health</td>\n",
       "      <td>Agriculture</td>\n",
       "      <td>NaN</td>\n",
       "    </tr>\n",
       "    <tr>\n",
       "      <th>4</th>\n",
       "      <td>minerals and supplements</td>\n",
       "      <td>aviboost poultry tonic</td>\n",
       "      <td>1lt</td>\n",
       "      <td>1.0</td>\n",
       "      <td>1</td>\n",
       "      <td>Vital Animal Health</td>\n",
       "      <td>ANP003A</td>\n",
       "      <td>2678</td>\n",
       "      <td>1</td>\n",
       "      <td>Vital Animal Health</td>\n",
       "      <td>Agriculture</td>\n",
       "      <td>NaN</td>\n",
       "    </tr>\n",
       "  </tbody>\n",
       "</table>\n",
       "</div>"
      ],
      "text/plain": [
       "                   Category            product_name Type  Weight  Carton Size   \n",
       "0  minerals and supplements     aviboost aqua block  1kg     1.0            1  \\\n",
       "1  minerals and supplements      aviboost cl-x blue  1lt     1.0            1   \n",
       "2  minerals and supplements    aviboost nutri block  1kg     1.0            1   \n",
       "3  minerals and supplements       aviboost spectrum  1lt     1.0            1   \n",
       "4  minerals and supplements  aviboost poultry tonic  1lt     1.0            1   \n",
       "\n",
       "           Distributor Product Code  Product Id  Distributor Type   \n",
       "0  Vital Animal Health      ANP001A        2672                 1  \\\n",
       "1  Vital Animal Health      ANP061A        2674                 1   \n",
       "2  Vital Animal Health      ANP062A        2676                 1   \n",
       "3  Vital Animal Health      ANP063A        2677                 1   \n",
       "4  Vital Animal Health      ANP003A        2678                 1   \n",
       "\n",
       "          Manufacturer     Industry Sub category  \n",
       "0  Vital Animal Health  Agriculture          NaN  \n",
       "1  Vital Animal Health  Agriculture          NaN  \n",
       "2  Vital Animal Health  Agriculture          NaN  \n",
       "3  Vital Animal Health  Agriculture          NaN  \n",
       "4  Vital Animal Health  Agriculture          NaN  "
      ]
     },
     "execution_count": 7,
     "metadata": {},
     "output_type": "execute_result"
    }
   ],
   "source": [
    "# changing product name and category columns to lowercase\n",
    "iprocure_prods_df[['Category', 'Product Name']] = iprocure_prods_df[['Category', 'Product Name']].applymap(lambda x: str(x).lower())\n",
    "category_df[['category_name', 'product_name']] = category_df[['category_name', 'product_name']].applymap(lambda x: str(x).lower())\n",
    "\n",
    "# renaming product name\n",
    "iprocure_prods_df.rename(columns={'Product Name': 'product_name'}, inplace=True)\n",
    "iprocure_prods_df.head()"
   ]
  },
  {
   "cell_type": "code",
   "execution_count": 8,
   "metadata": {},
   "outputs": [
    {
     "data": {
      "text/plain": [
       "(22596, 3)"
      ]
     },
     "execution_count": 8,
     "metadata": {},
     "output_type": "execute_result"
    }
   ],
   "source": [
    "category_df.drop_duplicates(subset=['product_name'], keep='first', inplace=True)\n",
    "category_df.shape"
   ]
  },
  {
   "cell_type": "code",
   "execution_count": 11,
   "metadata": {},
   "outputs": [
    {
     "data": {
      "text/html": [
       "<div>\n",
       "<style scoped>\n",
       "    .dataframe tbody tr th:only-of-type {\n",
       "        vertical-align: middle;\n",
       "    }\n",
       "\n",
       "    .dataframe tbody tr th {\n",
       "        vertical-align: top;\n",
       "    }\n",
       "\n",
       "    .dataframe thead th {\n",
       "        text-align: right;\n",
       "    }\n",
       "</style>\n",
       "<table border=\"1\" class=\"dataframe\">\n",
       "  <thead>\n",
       "    <tr style=\"text-align: right;\">\n",
       "      <th></th>\n",
       "      <th>product_name</th>\n",
       "      <th>category_name</th>\n",
       "      <th>sub_category</th>\n",
       "      <th>Category</th>\n",
       "      <th>Sub category</th>\n",
       "    </tr>\n",
       "  </thead>\n",
       "  <tbody>\n",
       "    <tr>\n",
       "      <th>0</th>\n",
       "      <td>magazine east african</td>\n",
       "      <td>locall</td>\n",
       "      <td>NaN</td>\n",
       "      <td>NaN</td>\n",
       "      <td>NaN</td>\n",
       "    </tr>\n",
       "    <tr>\n",
       "      <th>1</th>\n",
       "      <td>absolute</td>\n",
       "      <td>local</td>\n",
       "      <td>NaN</td>\n",
       "      <td>agrochemicals</td>\n",
       "      <td>Fungicide</td>\n",
       "    </tr>\n",
       "    <tr>\n",
       "      <th>2</th>\n",
       "      <td>pole double c63</td>\n",
       "      <td>mcbs</td>\n",
       "      <td>NaN</td>\n",
       "      <td>NaN</td>\n",
       "      <td>NaN</td>\n",
       "    </tr>\n",
       "    <tr>\n",
       "      <th>3</th>\n",
       "      <td>starter j</td>\n",
       "      <td>unga</td>\n",
       "      <td>NaN</td>\n",
       "      <td>NaN</td>\n",
       "      <td>NaN</td>\n",
       "    </tr>\n",
       "    <tr>\n",
       "      <th>4</th>\n",
       "      <td>mola feeds</td>\n",
       "      <td>malezi</td>\n",
       "      <td>NaN</td>\n",
       "      <td>feeds</td>\n",
       "      <td>NaN</td>\n",
       "    </tr>\n",
       "  </tbody>\n",
       "</table>\n",
       "</div>"
      ],
      "text/plain": [
       "            product_name category_name sub_category       Category   \n",
       "0  magazine east african        locall          NaN            NaN  \\\n",
       "1               absolute         local          NaN  agrochemicals   \n",
       "2        pole double c63          mcbs          NaN            NaN   \n",
       "3             starter j           unga          NaN            NaN   \n",
       "4             mola feeds        malezi          NaN          feeds   \n",
       "\n",
       "  Sub category  \n",
       "0          NaN  \n",
       "1    Fungicide  \n",
       "2          NaN  \n",
       "3          NaN  \n",
       "4          NaN  "
      ]
     },
     "execution_count": 11,
     "metadata": {},
     "output_type": "execute_result"
    }
   ],
   "source": [
    "category_df = category_df.merge(iprocure_prods_df[['product_name', 'Category', 'Sub category', ]], on='product_name', how='left')\n",
    "category_df.drop_duplicates(subset=['product_name'], keep='first', inplace=True)\n",
    "category_df.head()"
   ]
  },
  {
   "cell_type": "code",
   "execution_count": 12,
   "metadata": {},
   "outputs": [
    {
     "data": {
      "text/plain": [
       "(22596, 5)"
      ]
     },
     "execution_count": 12,
     "metadata": {},
     "output_type": "execute_result"
    }
   ],
   "source": [
    "category_df.shape"
   ]
  },
  {
   "cell_type": "code",
   "execution_count": 13,
   "metadata": {},
   "outputs": [
    {
     "data": {
      "text/plain": [
       "product_name         0\n",
       "category_name        0\n",
       "sub_category     22409\n",
       "Category         19228\n",
       "Sub category     21439\n",
       "dtype: int64"
      ]
     },
     "execution_count": 13,
     "metadata": {},
     "output_type": "execute_result"
    }
   ],
   "source": [
    "category_df.isna().sum()"
   ]
  },
  {
   "attachments": {},
   "cell_type": "markdown",
   "metadata": {},
   "source": [
    "### Cleaning category column"
   ]
  },
  {
   "cell_type": "code",
   "execution_count": 14,
   "metadata": {},
   "outputs": [
    {
     "data": {
      "text/html": [
       "<div>\n",
       "<style scoped>\n",
       "    .dataframe tbody tr th:only-of-type {\n",
       "        vertical-align: middle;\n",
       "    }\n",
       "\n",
       "    .dataframe tbody tr th {\n",
       "        vertical-align: top;\n",
       "    }\n",
       "\n",
       "    .dataframe thead th {\n",
       "        text-align: right;\n",
       "    }\n",
       "</style>\n",
       "<table border=\"1\" class=\"dataframe\">\n",
       "  <thead>\n",
       "    <tr style=\"text-align: right;\">\n",
       "      <th></th>\n",
       "      <th>product_name</th>\n",
       "      <th>category_name</th>\n",
       "      <th>sub_category</th>\n",
       "      <th>Category</th>\n",
       "      <th>Sub category</th>\n",
       "    </tr>\n",
       "  </thead>\n",
       "  <tbody>\n",
       "    <tr>\n",
       "      <th>0</th>\n",
       "      <td>magazine east african</td>\n",
       "      <td>locall</td>\n",
       "      <td>NaN</td>\n",
       "      <td>locall</td>\n",
       "      <td>NaN</td>\n",
       "    </tr>\n",
       "    <tr>\n",
       "      <th>1</th>\n",
       "      <td>absolute</td>\n",
       "      <td>local</td>\n",
       "      <td>NaN</td>\n",
       "      <td>agrochemicals</td>\n",
       "      <td>Fungicide</td>\n",
       "    </tr>\n",
       "    <tr>\n",
       "      <th>2</th>\n",
       "      <td>pole double c63</td>\n",
       "      <td>mcbs</td>\n",
       "      <td>NaN</td>\n",
       "      <td>mcbs</td>\n",
       "      <td>NaN</td>\n",
       "    </tr>\n",
       "    <tr>\n",
       "      <th>3</th>\n",
       "      <td>starter j</td>\n",
       "      <td>unga</td>\n",
       "      <td>NaN</td>\n",
       "      <td>unga</td>\n",
       "      <td>NaN</td>\n",
       "    </tr>\n",
       "    <tr>\n",
       "      <th>4</th>\n",
       "      <td>mola feeds</td>\n",
       "      <td>malezi</td>\n",
       "      <td>NaN</td>\n",
       "      <td>feeds</td>\n",
       "      <td>NaN</td>\n",
       "    </tr>\n",
       "  </tbody>\n",
       "</table>\n",
       "</div>"
      ],
      "text/plain": [
       "            product_name category_name sub_category       Category   \n",
       "0  magazine east african        locall          NaN         locall  \\\n",
       "1               absolute         local          NaN  agrochemicals   \n",
       "2        pole double c63          mcbs          NaN           mcbs   \n",
       "3             starter j           unga          NaN           unga   \n",
       "4             mola feeds        malezi          NaN          feeds   \n",
       "\n",
       "  Sub category  \n",
       "0          NaN  \n",
       "1    Fungicide  \n",
       "2          NaN  \n",
       "3          NaN  \n",
       "4          NaN  "
      ]
     },
     "execution_count": 14,
     "metadata": {},
     "output_type": "execute_result"
    }
   ],
   "source": [
    "category_df['Category'] = np.where(category_df['Category'].isna(), category_df['category_name'], category_df['Category'])\n",
    "category_df.head()"
   ]
  },
  {
   "cell_type": "code",
   "execution_count": 15,
   "metadata": {},
   "outputs": [
    {
     "data": {
      "text/plain": [
       "product_name         0\n",
       "category_name        0\n",
       "sub_category     22409\n",
       "Category             0\n",
       "Sub category     21439\n",
       "dtype: int64"
      ]
     },
     "execution_count": 15,
     "metadata": {},
     "output_type": "execute_result"
    }
   ],
   "source": [
    "category_df.isna().sum()"
   ]
  },
  {
   "cell_type": "code",
   "execution_count": 16,
   "metadata": {},
   "outputs": [
    {
     "data": {
      "text/html": [
       "<div>\n",
       "<style scoped>\n",
       "    .dataframe tbody tr th:only-of-type {\n",
       "        vertical-align: middle;\n",
       "    }\n",
       "\n",
       "    .dataframe tbody tr th {\n",
       "        vertical-align: top;\n",
       "    }\n",
       "\n",
       "    .dataframe thead th {\n",
       "        text-align: right;\n",
       "    }\n",
       "</style>\n",
       "<table border=\"1\" class=\"dataframe\">\n",
       "  <thead>\n",
       "    <tr style=\"text-align: right;\">\n",
       "      <th></th>\n",
       "      <th>category</th>\n",
       "      <th>match</th>\n",
       "      <th>score</th>\n",
       "    </tr>\n",
       "  </thead>\n",
       "  <tbody>\n",
       "    <tr>\n",
       "      <th>0</th>\n",
       "      <td>locall</td>\n",
       "      <td>immunologicals</td>\n",
       "      <td>0.50</td>\n",
       "    </tr>\n",
       "    <tr>\n",
       "      <th>2</th>\n",
       "      <td>mcbs</td>\n",
       "      <td>immunologicals</td>\n",
       "      <td>0.33</td>\n",
       "    </tr>\n",
       "    <tr>\n",
       "      <th>3</th>\n",
       "      <td>unga</td>\n",
       "      <td>gear</td>\n",
       "      <td>0.50</td>\n",
       "    </tr>\n",
       "    <tr>\n",
       "      <th>5</th>\n",
       "      <td>tabs</td>\n",
       "      <td>transmission</td>\n",
       "      <td>0.38</td>\n",
       "    </tr>\n",
       "    <tr>\n",
       "      <th>6</th>\n",
       "      <td>tabz</td>\n",
       "      <td>sanitation</td>\n",
       "      <td>0.29</td>\n",
       "    </tr>\n",
       "  </tbody>\n",
       "</table>\n",
       "</div>"
      ],
      "text/plain": [
       "  category           match  score\n",
       "0   locall  immunologicals   0.50\n",
       "2     mcbs  immunologicals   0.33\n",
       "3     unga            gear   0.50\n",
       "5     tabs    transmission   0.38\n",
       "6     tabz      sanitation   0.29"
      ]
     },
     "execution_count": 16,
     "metadata": {},
     "output_type": "execute_result"
    }
   ],
   "source": [
    "# cleaning category column\n",
    "categories = iprocure_prods_df['Category'].unique().tolist()\n",
    "\n",
    "wrong_categories_df = category_df[~category_df['Category'].isin(categories)]\n",
    "wrong_categories_df = wrong_categories_df.drop_duplicates(subset='Category', keep='first')\n",
    "\n",
    "# cleanup function\n",
    "def compare(i):\n",
    "    comparison = {}\n",
    "    if isinstance(i, str):\n",
    "       comparison.update({i: get_close_matches(i, categories, n=1, cutoff=0.1)})\n",
    "    category = list(comparison.keys()) if comparison else None\n",
    "    match = []\n",
    "    score = []\n",
    "    if comparison:\n",
    "       for key, value in comparison.items():\n",
    "           if value:\n",
    "              match.append(value[0])\n",
    "              score.append(round(SequenceMatcher(None, i, value[0]).ratio(), 2))\n",
    "           else:\n",
    "              match.append(None)\n",
    "              score.append(None)\n",
    "    else:\n",
    "       match.append(None)\n",
    "       score.append(None)\n",
    "              \n",
    "    return pd.Series([category, match, score], index = ['category', 'match', 'score'])\n",
    "\n",
    "cleaned_categories_df = pd.DataFrame()\n",
    "cleaned_categories_df[['category', 'match', 'score']] = wrong_categories_df['Category'].apply(lambda x: compare(x))\n",
    "cleaned_categories_df = cleaned_categories_df.applymap(lambda x: x[0] if x else '')\n",
    "cleaned_categories_df.head()"
   ]
  },
  {
   "cell_type": "code",
   "execution_count": 17,
   "metadata": {},
   "outputs": [
    {
     "data": {
      "text/html": [
       "<div>\n",
       "<style scoped>\n",
       "    .dataframe tbody tr th:only-of-type {\n",
       "        vertical-align: middle;\n",
       "    }\n",
       "\n",
       "    .dataframe tbody tr th {\n",
       "        vertical-align: top;\n",
       "    }\n",
       "\n",
       "    .dataframe thead th {\n",
       "        text-align: right;\n",
       "    }\n",
       "</style>\n",
       "<table border=\"1\" class=\"dataframe\">\n",
       "  <thead>\n",
       "    <tr style=\"text-align: right;\">\n",
       "      <th></th>\n",
       "      <th>Category</th>\n",
       "      <th>match</th>\n",
       "      <th>score</th>\n",
       "    </tr>\n",
       "  </thead>\n",
       "  <tbody>\n",
       "    <tr>\n",
       "      <th>46</th>\n",
       "      <td>agrochemical</td>\n",
       "      <td>agrochemicals</td>\n",
       "      <td>0.96</td>\n",
       "    </tr>\n",
       "    <tr>\n",
       "      <th>70</th>\n",
       "      <td>feed</td>\n",
       "      <td>feeds</td>\n",
       "      <td>0.89</td>\n",
       "    </tr>\n",
       "    <tr>\n",
       "      <th>146</th>\n",
       "      <td>whisky</td>\n",
       "      <td>whiskey</td>\n",
       "      <td>0.92</td>\n",
       "    </tr>\n",
       "    <tr>\n",
       "      <th>180</th>\n",
       "      <td>minerals and supplements1</td>\n",
       "      <td>minerals and supplements</td>\n",
       "      <td>0.98</td>\n",
       "    </tr>\n",
       "    <tr>\n",
       "      <th>187</th>\n",
       "      <td>agrochemicalsm</td>\n",
       "      <td>agrochemicals</td>\n",
       "      <td>0.96</td>\n",
       "    </tr>\n",
       "  </tbody>\n",
       "</table>\n",
       "</div>"
      ],
      "text/plain": [
       "                      Category                     match  score\n",
       "46                agrochemical             agrochemicals   0.96\n",
       "70                        feed                     feeds   0.89\n",
       "146                     whisky                   whiskey   0.92\n",
       "180  minerals and supplements1  minerals and supplements   0.98\n",
       "187             agrochemicalsm             agrochemicals   0.96"
      ]
     },
     "execution_count": 17,
     "metadata": {},
     "output_type": "execute_result"
    }
   ],
   "source": [
    "# replacing incorrect category names\n",
    "category_matches_df = cleaned_categories_df[cleaned_categories_df['score'] >= 0.7]\n",
    "category_matches_df = category_matches_df.rename(columns={'category': 'Category'})\n",
    "category_matches_df.head()"
   ]
  },
  {
   "cell_type": "code",
   "execution_count": 18,
   "metadata": {},
   "outputs": [
    {
     "data": {
      "text/html": [
       "<div>\n",
       "<style scoped>\n",
       "    .dataframe tbody tr th:only-of-type {\n",
       "        vertical-align: middle;\n",
       "    }\n",
       "\n",
       "    .dataframe tbody tr th {\n",
       "        vertical-align: top;\n",
       "    }\n",
       "\n",
       "    .dataframe thead th {\n",
       "        text-align: right;\n",
       "    }\n",
       "</style>\n",
       "<table border=\"1\" class=\"dataframe\">\n",
       "  <thead>\n",
       "    <tr style=\"text-align: right;\">\n",
       "      <th></th>\n",
       "      <th>product_name</th>\n",
       "      <th>sub_category</th>\n",
       "      <th>Sub category</th>\n",
       "      <th>category_name</th>\n",
       "    </tr>\n",
       "  </thead>\n",
       "  <tbody>\n",
       "    <tr>\n",
       "      <th>0</th>\n",
       "      <td>magazine east african</td>\n",
       "      <td>NaN</td>\n",
       "      <td>NaN</td>\n",
       "      <td>locall</td>\n",
       "    </tr>\n",
       "    <tr>\n",
       "      <th>1</th>\n",
       "      <td>absolute</td>\n",
       "      <td>NaN</td>\n",
       "      <td>Fungicide</td>\n",
       "      <td>agrochemicals</td>\n",
       "    </tr>\n",
       "    <tr>\n",
       "      <th>2</th>\n",
       "      <td>pole double c63</td>\n",
       "      <td>NaN</td>\n",
       "      <td>NaN</td>\n",
       "      <td>mcbs</td>\n",
       "    </tr>\n",
       "    <tr>\n",
       "      <th>3</th>\n",
       "      <td>starter j</td>\n",
       "      <td>NaN</td>\n",
       "      <td>NaN</td>\n",
       "      <td>unga</td>\n",
       "    </tr>\n",
       "    <tr>\n",
       "      <th>4</th>\n",
       "      <td>mola feeds</td>\n",
       "      <td>NaN</td>\n",
       "      <td>NaN</td>\n",
       "      <td>feeds</td>\n",
       "    </tr>\n",
       "  </tbody>\n",
       "</table>\n",
       "</div>"
      ],
      "text/plain": [
       "            product_name sub_category Sub category  category_name\n",
       "0  magazine east african          NaN          NaN         locall\n",
       "1               absolute          NaN    Fungicide  agrochemicals\n",
       "2        pole double c63          NaN          NaN           mcbs\n",
       "3             starter j           NaN          NaN           unga\n",
       "4             mola feeds          NaN          NaN          feeds"
      ]
     },
     "execution_count": 18,
     "metadata": {},
     "output_type": "execute_result"
    }
   ],
   "source": [
    "category_df = category_df.merge(category_matches_df[['Category', 'match']], how='left', on='Category')\n",
    "category_df['match'] = np.where(category_df['match'].isna(), category_df['Category'], category_df['match'])\n",
    "category_df = category_df.drop(['category_name', 'Category'], axis = 1).\\\n",
    "    rename(columns={'match': 'category_name'})\n",
    "category_df.head()"
   ]
  },
  {
   "cell_type": "code",
   "execution_count": 19,
   "metadata": {},
   "outputs": [
    {
     "data": {
      "text/plain": [
       "product_name         0\n",
       "sub_category     22409\n",
       "Sub category     21439\n",
       "category_name        0\n",
       "dtype: int64"
      ]
     },
     "execution_count": 19,
     "metadata": {},
     "output_type": "execute_result"
    }
   ],
   "source": [
    "category_df.isna().sum()"
   ]
  },
  {
   "attachments": {},
   "cell_type": "markdown",
   "metadata": {},
   "source": [
    "### Cleaning sub-category column"
   ]
  },
  {
   "cell_type": "code",
   "execution_count": 20,
   "metadata": {},
   "outputs": [
    {
     "data": {
      "text/html": [
       "<div>\n",
       "<style scoped>\n",
       "    .dataframe tbody tr th:only-of-type {\n",
       "        vertical-align: middle;\n",
       "    }\n",
       "\n",
       "    .dataframe tbody tr th {\n",
       "        vertical-align: top;\n",
       "    }\n",
       "\n",
       "    .dataframe thead th {\n",
       "        text-align: right;\n",
       "    }\n",
       "</style>\n",
       "<table border=\"1\" class=\"dataframe\">\n",
       "  <thead>\n",
       "    <tr style=\"text-align: right;\">\n",
       "      <th></th>\n",
       "      <th>product_name</th>\n",
       "      <th>sub_category</th>\n",
       "      <th>Sub category</th>\n",
       "      <th>category_name</th>\n",
       "    </tr>\n",
       "  </thead>\n",
       "  <tbody>\n",
       "    <tr>\n",
       "      <th>0</th>\n",
       "      <td>magazine east african</td>\n",
       "      <td>NaN</td>\n",
       "      <td>NaN</td>\n",
       "      <td>locall</td>\n",
       "    </tr>\n",
       "    <tr>\n",
       "      <th>1</th>\n",
       "      <td>absolute</td>\n",
       "      <td>NaN</td>\n",
       "      <td>Fungicide</td>\n",
       "      <td>agrochemicals</td>\n",
       "    </tr>\n",
       "    <tr>\n",
       "      <th>2</th>\n",
       "      <td>pole double c63</td>\n",
       "      <td>NaN</td>\n",
       "      <td>NaN</td>\n",
       "      <td>mcbs</td>\n",
       "    </tr>\n",
       "    <tr>\n",
       "      <th>3</th>\n",
       "      <td>starter j</td>\n",
       "      <td>NaN</td>\n",
       "      <td>NaN</td>\n",
       "      <td>unga</td>\n",
       "    </tr>\n",
       "    <tr>\n",
       "      <th>4</th>\n",
       "      <td>mola feeds</td>\n",
       "      <td>NaN</td>\n",
       "      <td>NaN</td>\n",
       "      <td>feeds</td>\n",
       "    </tr>\n",
       "  </tbody>\n",
       "</table>\n",
       "</div>"
      ],
      "text/plain": [
       "            product_name sub_category Sub category  category_name\n",
       "0  magazine east african          NaN          NaN         locall\n",
       "1               absolute          NaN    Fungicide  agrochemicals\n",
       "2        pole double c63          NaN          NaN           mcbs\n",
       "3             starter j           NaN          NaN           unga\n",
       "4             mola feeds          NaN          NaN          feeds"
      ]
     },
     "execution_count": 20,
     "metadata": {},
     "output_type": "execute_result"
    }
   ],
   "source": [
    "category_df['Sub category'] = np.where(category_df['Sub category'].isna(), category_df['sub_category'], category_df['Sub category'])\n",
    "category_df.head()"
   ]
  },
  {
   "cell_type": "code",
   "execution_count": 21,
   "metadata": {},
   "outputs": [
    {
     "data": {
      "text/plain": [
       "product_name         0\n",
       "sub_category     22409\n",
       "Sub category     21418\n",
       "category_name        0\n",
       "dtype: int64"
      ]
     },
     "execution_count": 21,
     "metadata": {},
     "output_type": "execute_result"
    }
   ],
   "source": [
    "category_df.isna().sum()"
   ]
  },
  {
   "cell_type": "code",
   "execution_count": 22,
   "metadata": {},
   "outputs": [
    {
     "data": {
      "text/plain": [
       "array([nan, 'Fungicide', 'Herbicide', 'Vegetable Seeds', 'Insecticide',\n",
       "       'Foliar Fertilizer', 'Cereal Seeds', 'Hygiene',\n",
       "       'Foliar Fertilizers', 'Powder', 'Block'], dtype=object)"
      ]
     },
     "execution_count": 22,
     "metadata": {},
     "output_type": "execute_result"
    }
   ],
   "source": [
    "category_df['Sub category'].unique()"
   ]
  },
  {
   "cell_type": "code",
   "execution_count": 23,
   "metadata": {},
   "outputs": [],
   "source": [
    "category_df['Sub category'] = category_df['Sub category'].replace('Foliar Fertilizers', 'Foliar Fertilizer')"
   ]
  },
  {
   "cell_type": "code",
   "execution_count": 24,
   "metadata": {},
   "outputs": [
    {
     "data": {
      "text/plain": [
       "(22596, 4)"
      ]
     },
     "execution_count": 24,
     "metadata": {},
     "output_type": "execute_result"
    }
   ],
   "source": [
    "category_df.shape"
   ]
  },
  {
   "cell_type": "code",
   "execution_count": 25,
   "metadata": {},
   "outputs": [
    {
     "data": {
      "text/html": [
       "<div>\n",
       "<style scoped>\n",
       "    .dataframe tbody tr th:only-of-type {\n",
       "        vertical-align: middle;\n",
       "    }\n",
       "\n",
       "    .dataframe tbody tr th {\n",
       "        vertical-align: top;\n",
       "    }\n",
       "\n",
       "    .dataframe thead th {\n",
       "        text-align: right;\n",
       "    }\n",
       "</style>\n",
       "<table border=\"1\" class=\"dataframe\">\n",
       "  <thead>\n",
       "    <tr style=\"text-align: right;\">\n",
       "      <th></th>\n",
       "      <th>product_name</th>\n",
       "      <th>sub_category</th>\n",
       "      <th>category_name</th>\n",
       "    </tr>\n",
       "  </thead>\n",
       "  <tbody>\n",
       "    <tr>\n",
       "      <th>0</th>\n",
       "      <td>magazine east african</td>\n",
       "      <td>NaN</td>\n",
       "      <td>locall</td>\n",
       "    </tr>\n",
       "    <tr>\n",
       "      <th>1</th>\n",
       "      <td>absolute</td>\n",
       "      <td>Fungicide</td>\n",
       "      <td>agrochemicals</td>\n",
       "    </tr>\n",
       "    <tr>\n",
       "      <th>2</th>\n",
       "      <td>pole double c63</td>\n",
       "      <td>NaN</td>\n",
       "      <td>mcbs</td>\n",
       "    </tr>\n",
       "    <tr>\n",
       "      <th>3</th>\n",
       "      <td>starter j</td>\n",
       "      <td>NaN</td>\n",
       "      <td>unga</td>\n",
       "    </tr>\n",
       "    <tr>\n",
       "      <th>4</th>\n",
       "      <td>mola feeds</td>\n",
       "      <td>NaN</td>\n",
       "      <td>feeds</td>\n",
       "    </tr>\n",
       "  </tbody>\n",
       "</table>\n",
       "</div>"
      ],
      "text/plain": [
       "            product_name sub_category  category_name\n",
       "0  magazine east african          NaN         locall\n",
       "1               absolute    Fungicide  agrochemicals\n",
       "2        pole double c63          NaN           mcbs\n",
       "3             starter j           NaN           unga\n",
       "4             mola feeds          NaN          feeds"
      ]
     },
     "execution_count": 25,
     "metadata": {},
     "output_type": "execute_result"
    }
   ],
   "source": [
    "category_df = category_df.drop('sub_category', axis = 1).\\\n",
    "    rename(columns={'Sub category': 'sub_category'})\n",
    "category_df.head()"
   ]
  },
  {
   "cell_type": "code",
   "execution_count": 26,
   "metadata": {},
   "outputs": [
    {
     "data": {
      "text/html": [
       "<div>\n",
       "<style scoped>\n",
       "    .dataframe tbody tr th:only-of-type {\n",
       "        vertical-align: middle;\n",
       "    }\n",
       "\n",
       "    .dataframe tbody tr th {\n",
       "        vertical-align: top;\n",
       "    }\n",
       "\n",
       "    .dataframe thead th {\n",
       "        text-align: right;\n",
       "    }\n",
       "</style>\n",
       "<table border=\"1\" class=\"dataframe\">\n",
       "  <thead>\n",
       "    <tr style=\"text-align: right;\">\n",
       "      <th></th>\n",
       "      <th>product_name</th>\n",
       "      <th>sub_category</th>\n",
       "      <th>category_name</th>\n",
       "    </tr>\n",
       "  </thead>\n",
       "  <tbody>\n",
       "  </tbody>\n",
       "</table>\n",
       "</div>"
      ],
      "text/plain": [
       "Empty DataFrame\n",
       "Columns: [product_name, sub_category, category_name]\n",
       "Index: []"
      ]
     },
     "execution_count": 26,
     "metadata": {},
     "output_type": "execute_result"
    }
   ],
   "source": [
    "# category_df = category_df.drop_duplicates(subset=['product_name'], keep='last').reset_index(drop=True)\n",
    "category_df[category_df.duplicated(subset=['product_name'])]"
   ]
  },
  {
   "cell_type": "code",
   "execution_count": 27,
   "metadata": {},
   "outputs": [
    {
     "data": {
      "text/plain": [
       "product_name         0\n",
       "sub_category     21418\n",
       "category_name        0\n",
       "dtype: int64"
      ]
     },
     "execution_count": 27,
     "metadata": {},
     "output_type": "execute_result"
    }
   ],
   "source": [
    "category_df.isna().sum() # ---> Old"
   ]
  },
  {
   "cell_type": "code",
   "execution_count": 27,
   "metadata": {},
   "outputs": [
    {
     "data": {
      "text/plain": [
       "product_name         0\n",
       "sub_category     13140\n",
       "Industry         10665\n",
       "category_name        0\n",
       "dtype: int64"
      ]
     },
     "execution_count": 27,
     "metadata": {},
     "output_type": "execute_result"
    }
   ],
   "source": [
    "category_df.isna().sum() # ---> New"
   ]
  },
  {
   "cell_type": "code",
   "execution_count": 29,
   "metadata": {},
   "outputs": [],
   "source": [
    "# agrochem_df = category_df[category_df['category_name'] == 'agrochemicals']\n",
    "# agrochem_df.drop_duplicates(subset=['product_name'], keep='first', inplace=True)\n",
    "\n",
    "# x = agrochem_df[agrochem_df['sub_category'].isna()]\n",
    "# x.to_csv('Agrochemicals_without_subcategory.xlsx', index=False)"
   ]
  },
  {
   "cell_type": "code",
   "execution_count": 28,
   "metadata": {},
   "outputs": [
    {
     "data": {
      "text/html": [
       "<div>\n",
       "<style scoped>\n",
       "    .dataframe tbody tr th:only-of-type {\n",
       "        vertical-align: middle;\n",
       "    }\n",
       "\n",
       "    .dataframe tbody tr th {\n",
       "        vertical-align: top;\n",
       "    }\n",
       "\n",
       "    .dataframe thead th {\n",
       "        text-align: right;\n",
       "    }\n",
       "</style>\n",
       "<table border=\"1\" class=\"dataframe\">\n",
       "  <thead>\n",
       "    <tr style=\"text-align: right;\">\n",
       "      <th></th>\n",
       "      <th>product_name</th>\n",
       "      <th>sub_category</th>\n",
       "      <th>category_name</th>\n",
       "    </tr>\n",
       "  </thead>\n",
       "  <tbody>\n",
       "    <tr>\n",
       "      <th>0</th>\n",
       "      <td>magazine east african</td>\n",
       "      <td>NaN</td>\n",
       "      <td>locall</td>\n",
       "    </tr>\n",
       "    <tr>\n",
       "      <th>1</th>\n",
       "      <td>absolute</td>\n",
       "      <td>Fungicide</td>\n",
       "      <td>agrochemicals</td>\n",
       "    </tr>\n",
       "    <tr>\n",
       "      <th>2</th>\n",
       "      <td>pole double c63</td>\n",
       "      <td>NaN</td>\n",
       "      <td>mcbs</td>\n",
       "    </tr>\n",
       "    <tr>\n",
       "      <th>3</th>\n",
       "      <td>starter j</td>\n",
       "      <td>NaN</td>\n",
       "      <td>unga</td>\n",
       "    </tr>\n",
       "    <tr>\n",
       "      <th>4</th>\n",
       "      <td>mola feeds</td>\n",
       "      <td>NaN</td>\n",
       "      <td>feeds</td>\n",
       "    </tr>\n",
       "    <tr>\n",
       "      <th>...</th>\n",
       "      <td>...</td>\n",
       "      <td>...</td>\n",
       "      <td>...</td>\n",
       "    </tr>\n",
       "    <tr>\n",
       "      <th>22591</th>\n",
       "      <td>beckojat</td>\n",
       "      <td>NaN</td>\n",
       "      <td>minerals and supplements</td>\n",
       "    </tr>\n",
       "    <tr>\n",
       "      <th>22592</th>\n",
       "      <td>mineral blocks 5 kg</td>\n",
       "      <td>NaN</td>\n",
       "      <td>minerals and supplements</td>\n",
       "    </tr>\n",
       "    <tr>\n",
       "      <th>22593</th>\n",
       "      <td>mineral dry blocks</td>\n",
       "      <td>NaN</td>\n",
       "      <td>minerals and supplements</td>\n",
       "    </tr>\n",
       "    <tr>\n",
       "      <th>22594</th>\n",
       "      <td>multivitamin aroms</td>\n",
       "      <td>NaN</td>\n",
       "      <td>minerals and supplements</td>\n",
       "    </tr>\n",
       "    <tr>\n",
       "      <th>22595</th>\n",
       "      <td>prime lick joto</td>\n",
       "      <td>NaN</td>\n",
       "      <td>minerals and supplements</td>\n",
       "    </tr>\n",
       "  </tbody>\n",
       "</table>\n",
       "<p>22596 rows × 3 columns</p>\n",
       "</div>"
      ],
      "text/plain": [
       "                product_name sub_category             category_name\n",
       "0      magazine east african          NaN                    locall\n",
       "1                   absolute    Fungicide             agrochemicals\n",
       "2            pole double c63          NaN                      mcbs\n",
       "3                 starter j           NaN                      unga\n",
       "4                 mola feeds          NaN                     feeds\n",
       "...                      ...          ...                       ...\n",
       "22591               beckojat          NaN  minerals and supplements\n",
       "22592    mineral blocks 5 kg          NaN  minerals and supplements\n",
       "22593     mineral dry blocks          NaN  minerals and supplements\n",
       "22594     multivitamin aroms          NaN  minerals and supplements\n",
       "22595        prime lick joto          NaN  minerals and supplements\n",
       "\n",
       "[22596 rows x 3 columns]"
      ]
     },
     "execution_count": 28,
     "metadata": {},
     "output_type": "execute_result"
    }
   ],
   "source": [
    "category_df"
   ]
  },
  {
   "cell_type": "code",
   "execution_count": 29,
   "metadata": {},
   "outputs": [
    {
     "data": {
      "text/html": [
       "<div>\n",
       "<style scoped>\n",
       "    .dataframe tbody tr th:only-of-type {\n",
       "        vertical-align: middle;\n",
       "    }\n",
       "\n",
       "    .dataframe tbody tr th {\n",
       "        vertical-align: top;\n",
       "    }\n",
       "\n",
       "    .dataframe thead th {\n",
       "        text-align: right;\n",
       "    }\n",
       "</style>\n",
       "<table border=\"1\" class=\"dataframe\">\n",
       "  <thead>\n",
       "    <tr style=\"text-align: right;\">\n",
       "      <th></th>\n",
       "      <th>product_name</th>\n",
       "      <th>sub_category</th>\n",
       "    </tr>\n",
       "  </thead>\n",
       "  <tbody>\n",
       "    <tr>\n",
       "      <th>0</th>\n",
       "      <td>lancer 130 sc</td>\n",
       "      <td>Insecticide</td>\n",
       "    </tr>\n",
       "    <tr>\n",
       "      <th>1</th>\n",
       "      <td>nature guard 525 wdg</td>\n",
       "      <td>Fungicide</td>\n",
       "    </tr>\n",
       "    <tr>\n",
       "      <th>2</th>\n",
       "      <td>vanguisher 26% wdg</td>\n",
       "      <td>Fungicide</td>\n",
       "    </tr>\n",
       "    <tr>\n",
       "      <th>3</th>\n",
       "      <td>elglysate 480sl</td>\n",
       "      <td>Herbicide</td>\n",
       "    </tr>\n",
       "    <tr>\n",
       "      <th>4</th>\n",
       "      <td>alwin gold 500mls</td>\n",
       "      <td>Fungicide</td>\n",
       "    </tr>\n",
       "  </tbody>\n",
       "</table>\n",
       "</div>"
      ],
      "text/plain": [
       "           product_name sub_category\n",
       "0         lancer 130 sc  Insecticide\n",
       "1  nature guard 525 wdg    Fungicide\n",
       "2    vanguisher 26% wdg    Fungicide\n",
       "3       elglysate 480sl    Herbicide\n",
       "4     alwin gold 500mls    Fungicide"
      ]
     },
     "execution_count": 29,
     "metadata": {},
     "output_type": "execute_result"
    }
   ],
   "source": [
    "sub_df = pd.read_csv('/home/natasha/Documents/Iprocure/Sales-Data-Cleanup/data/subcategories.csv')\n",
    "sub_df['product_name'] = sub_df['product_name'].apply(lambda x: x.lower().strip())\n",
    "sub_df.head()"
   ]
  },
  {
   "cell_type": "code",
   "execution_count": 30,
   "metadata": {},
   "outputs": [
    {
     "data": {
      "text/plain": [
       "product_name          0\n",
       "sub_category_x    21418\n",
       "category_name         0\n",
       "sub_category_y    22578\n",
       "dtype: int64"
      ]
     },
     "execution_count": 30,
     "metadata": {},
     "output_type": "execute_result"
    }
   ],
   "source": [
    "category_df = category_df.merge(sub_df, on='product_name', how='left')\n",
    "category_df.isna().sum()"
   ]
  },
  {
   "cell_type": "code",
   "execution_count": 31,
   "metadata": {},
   "outputs": [
    {
     "data": {
      "text/html": [
       "<div>\n",
       "<style scoped>\n",
       "    .dataframe tbody tr th:only-of-type {\n",
       "        vertical-align: middle;\n",
       "    }\n",
       "\n",
       "    .dataframe tbody tr th {\n",
       "        vertical-align: top;\n",
       "    }\n",
       "\n",
       "    .dataframe thead th {\n",
       "        text-align: right;\n",
       "    }\n",
       "</style>\n",
       "<table border=\"1\" class=\"dataframe\">\n",
       "  <thead>\n",
       "    <tr style=\"text-align: right;\">\n",
       "      <th></th>\n",
       "      <th>product_name</th>\n",
       "      <th>sub_category_x</th>\n",
       "      <th>category_name</th>\n",
       "      <th>sub_category_y</th>\n",
       "    </tr>\n",
       "  </thead>\n",
       "  <tbody>\n",
       "    <tr>\n",
       "      <th>0</th>\n",
       "      <td>magazine east african</td>\n",
       "      <td>NaN</td>\n",
       "      <td>locall</td>\n",
       "      <td>NaN</td>\n",
       "    </tr>\n",
       "    <tr>\n",
       "      <th>1</th>\n",
       "      <td>absolute</td>\n",
       "      <td>Fungicide</td>\n",
       "      <td>agrochemicals</td>\n",
       "      <td>NaN</td>\n",
       "    </tr>\n",
       "    <tr>\n",
       "      <th>2</th>\n",
       "      <td>pole double c63</td>\n",
       "      <td>NaN</td>\n",
       "      <td>mcbs</td>\n",
       "      <td>NaN</td>\n",
       "    </tr>\n",
       "    <tr>\n",
       "      <th>3</th>\n",
       "      <td>starter j</td>\n",
       "      <td>NaN</td>\n",
       "      <td>unga</td>\n",
       "      <td>NaN</td>\n",
       "    </tr>\n",
       "    <tr>\n",
       "      <th>4</th>\n",
       "      <td>mola feeds</td>\n",
       "      <td>NaN</td>\n",
       "      <td>feeds</td>\n",
       "      <td>NaN</td>\n",
       "    </tr>\n",
       "    <tr>\n",
       "      <th>...</th>\n",
       "      <td>...</td>\n",
       "      <td>...</td>\n",
       "      <td>...</td>\n",
       "      <td>...</td>\n",
       "    </tr>\n",
       "    <tr>\n",
       "      <th>22591</th>\n",
       "      <td>beckojat</td>\n",
       "      <td>NaN</td>\n",
       "      <td>minerals and supplements</td>\n",
       "      <td>NaN</td>\n",
       "    </tr>\n",
       "    <tr>\n",
       "      <th>22592</th>\n",
       "      <td>mineral blocks 5 kg</td>\n",
       "      <td>NaN</td>\n",
       "      <td>minerals and supplements</td>\n",
       "      <td>NaN</td>\n",
       "    </tr>\n",
       "    <tr>\n",
       "      <th>22593</th>\n",
       "      <td>mineral dry blocks</td>\n",
       "      <td>NaN</td>\n",
       "      <td>minerals and supplements</td>\n",
       "      <td>NaN</td>\n",
       "    </tr>\n",
       "    <tr>\n",
       "      <th>22594</th>\n",
       "      <td>multivitamin aroms</td>\n",
       "      <td>NaN</td>\n",
       "      <td>minerals and supplements</td>\n",
       "      <td>NaN</td>\n",
       "    </tr>\n",
       "    <tr>\n",
       "      <th>22595</th>\n",
       "      <td>prime lick joto</td>\n",
       "      <td>NaN</td>\n",
       "      <td>minerals and supplements</td>\n",
       "      <td>NaN</td>\n",
       "    </tr>\n",
       "  </tbody>\n",
       "</table>\n",
       "<p>22596 rows × 4 columns</p>\n",
       "</div>"
      ],
      "text/plain": [
       "                product_name sub_category_x             category_name   \n",
       "0      magazine east african            NaN                    locall  \\\n",
       "1                   absolute      Fungicide             agrochemicals   \n",
       "2            pole double c63            NaN                      mcbs   \n",
       "3                 starter j             NaN                      unga   \n",
       "4                 mola feeds            NaN                     feeds   \n",
       "...                      ...            ...                       ...   \n",
       "22591               beckojat            NaN  minerals and supplements   \n",
       "22592    mineral blocks 5 kg            NaN  minerals and supplements   \n",
       "22593     mineral dry blocks            NaN  minerals and supplements   \n",
       "22594     multivitamin aroms            NaN  minerals and supplements   \n",
       "22595        prime lick joto            NaN  minerals and supplements   \n",
       "\n",
       "      sub_category_y  \n",
       "0                NaN  \n",
       "1                NaN  \n",
       "2                NaN  \n",
       "3                NaN  \n",
       "4                NaN  \n",
       "...              ...  \n",
       "22591            NaN  \n",
       "22592            NaN  \n",
       "22593            NaN  \n",
       "22594            NaN  \n",
       "22595            NaN  \n",
       "\n",
       "[22596 rows x 4 columns]"
      ]
     },
     "execution_count": 31,
     "metadata": {},
     "output_type": "execute_result"
    }
   ],
   "source": [
    "category_df"
   ]
  },
  {
   "cell_type": "code",
   "execution_count": 32,
   "metadata": {},
   "outputs": [
    {
     "data": {
      "text/plain": [
       "product_name          0\n",
       "sub_category_x    21400\n",
       "category_name         0\n",
       "sub_category_y    22578\n",
       "dtype: int64"
      ]
     },
     "execution_count": 32,
     "metadata": {},
     "output_type": "execute_result"
    }
   ],
   "source": [
    "category_df['sub_category_x'] = np.where(category_df['sub_category_x'].isna(), category_df['sub_category_y'], category_df['sub_category_x'])\n",
    "category_df.isna().sum()"
   ]
  },
  {
   "cell_type": "code",
   "execution_count": 33,
   "metadata": {},
   "outputs": [
    {
     "data": {
      "text/html": [
       "<div>\n",
       "<style scoped>\n",
       "    .dataframe tbody tr th:only-of-type {\n",
       "        vertical-align: middle;\n",
       "    }\n",
       "\n",
       "    .dataframe tbody tr th {\n",
       "        vertical-align: top;\n",
       "    }\n",
       "\n",
       "    .dataframe thead th {\n",
       "        text-align: right;\n",
       "    }\n",
       "</style>\n",
       "<table border=\"1\" class=\"dataframe\">\n",
       "  <thead>\n",
       "    <tr style=\"text-align: right;\">\n",
       "      <th></th>\n",
       "      <th>product_name</th>\n",
       "      <th>sub_category</th>\n",
       "      <th>category_name</th>\n",
       "    </tr>\n",
       "  </thead>\n",
       "  <tbody>\n",
       "    <tr>\n",
       "      <th>0</th>\n",
       "      <td>magazine east african</td>\n",
       "      <td>NaN</td>\n",
       "      <td>locall</td>\n",
       "    </tr>\n",
       "    <tr>\n",
       "      <th>1</th>\n",
       "      <td>absolute</td>\n",
       "      <td>Fungicide</td>\n",
       "      <td>agrochemicals</td>\n",
       "    </tr>\n",
       "    <tr>\n",
       "      <th>2</th>\n",
       "      <td>pole double c63</td>\n",
       "      <td>NaN</td>\n",
       "      <td>mcbs</td>\n",
       "    </tr>\n",
       "    <tr>\n",
       "      <th>3</th>\n",
       "      <td>starter j</td>\n",
       "      <td>NaN</td>\n",
       "      <td>unga</td>\n",
       "    </tr>\n",
       "    <tr>\n",
       "      <th>4</th>\n",
       "      <td>mola feeds</td>\n",
       "      <td>NaN</td>\n",
       "      <td>feeds</td>\n",
       "    </tr>\n",
       "    <tr>\n",
       "      <th>...</th>\n",
       "      <td>...</td>\n",
       "      <td>...</td>\n",
       "      <td>...</td>\n",
       "    </tr>\n",
       "    <tr>\n",
       "      <th>22591</th>\n",
       "      <td>beckojat</td>\n",
       "      <td>NaN</td>\n",
       "      <td>minerals and supplements</td>\n",
       "    </tr>\n",
       "    <tr>\n",
       "      <th>22592</th>\n",
       "      <td>mineral blocks 5 kg</td>\n",
       "      <td>NaN</td>\n",
       "      <td>minerals and supplements</td>\n",
       "    </tr>\n",
       "    <tr>\n",
       "      <th>22593</th>\n",
       "      <td>mineral dry blocks</td>\n",
       "      <td>NaN</td>\n",
       "      <td>minerals and supplements</td>\n",
       "    </tr>\n",
       "    <tr>\n",
       "      <th>22594</th>\n",
       "      <td>multivitamin aroms</td>\n",
       "      <td>NaN</td>\n",
       "      <td>minerals and supplements</td>\n",
       "    </tr>\n",
       "    <tr>\n",
       "      <th>22595</th>\n",
       "      <td>prime lick joto</td>\n",
       "      <td>NaN</td>\n",
       "      <td>minerals and supplements</td>\n",
       "    </tr>\n",
       "  </tbody>\n",
       "</table>\n",
       "<p>22596 rows × 3 columns</p>\n",
       "</div>"
      ],
      "text/plain": [
       "                product_name sub_category             category_name\n",
       "0      magazine east african          NaN                    locall\n",
       "1                   absolute    Fungicide             agrochemicals\n",
       "2            pole double c63          NaN                      mcbs\n",
       "3                 starter j           NaN                      unga\n",
       "4                 mola feeds          NaN                     feeds\n",
       "...                      ...          ...                       ...\n",
       "22591               beckojat          NaN  minerals and supplements\n",
       "22592    mineral blocks 5 kg          NaN  minerals and supplements\n",
       "22593     mineral dry blocks          NaN  minerals and supplements\n",
       "22594     multivitamin aroms          NaN  minerals and supplements\n",
       "22595        prime lick joto          NaN  minerals and supplements\n",
       "\n",
       "[22596 rows x 3 columns]"
      ]
     },
     "execution_count": 33,
     "metadata": {},
     "output_type": "execute_result"
    }
   ],
   "source": [
    "category_df = category_df.drop('sub_category_y', axis = 1).\\\n",
    "    rename(columns={'sub_category_x': 'sub_category'})\n",
    "category_df"
   ]
  },
  {
   "cell_type": "code",
   "execution_count": 34,
   "metadata": {},
   "outputs": [],
   "source": [
    "category_df.to_csv('clean_categories.csv', index=False)"
   ]
  },
  {
   "cell_type": "code",
   "execution_count": 40,
   "metadata": {},
   "outputs": [
    {
     "data": {
      "text/html": [
       "<div>\n",
       "<style scoped>\n",
       "    .dataframe tbody tr th:only-of-type {\n",
       "        vertical-align: middle;\n",
       "    }\n",
       "\n",
       "    .dataframe tbody tr th {\n",
       "        vertical-align: top;\n",
       "    }\n",
       "\n",
       "    .dataframe thead th {\n",
       "        text-align: right;\n",
       "    }\n",
       "</style>\n",
       "<table border=\"1\" class=\"dataframe\">\n",
       "  <thead>\n",
       "    <tr style=\"text-align: right;\">\n",
       "      <th></th>\n",
       "      <th>product_name</th>\n",
       "      <th>sub_category</th>\n",
       "      <th>Industry</th>\n",
       "      <th>category_name</th>\n",
       "    </tr>\n",
       "  </thead>\n",
       "  <tbody>\n",
       "  </tbody>\n",
       "</table>\n",
       "</div>"
      ],
      "text/plain": [
       "Empty DataFrame\n",
       "Columns: [product_name, sub_category, Industry, category_name]\n",
       "Index: []"
      ]
     },
     "execution_count": 40,
     "metadata": {},
     "output_type": "execute_result"
    }
   ],
   "source": [
    "category_df[category_df['category_name'].isna()]"
   ]
  },
  {
   "cell_type": "code",
   "execution_count": null,
   "metadata": {},
   "outputs": [],
   "source": []
  }
 ],
 "metadata": {
  "kernelspec": {
   "display_name": "Python 3",
   "language": "python",
   "name": "python3"
  },
  "language_info": {
   "codemirror_mode": {
    "name": "ipython",
    "version": 3
   },
   "file_extension": ".py",
   "mimetype": "text/x-python",
   "name": "python",
   "nbconvert_exporter": "python",
   "pygments_lexer": "ipython3",
   "version": "3.10.12"
  },
  "orig_nbformat": 4
 },
 "nbformat": 4,
 "nbformat_minor": 2
}
