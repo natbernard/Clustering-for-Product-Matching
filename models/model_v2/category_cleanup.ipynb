{
 "cells": [
  {
   "attachments": {},
   "cell_type": "markdown",
   "metadata": {},
   "source": [
    "# **Category Cleanup**"
   ]
  },
  {
   "attachments": {},
   "cell_type": "markdown",
   "metadata": {},
   "source": [
    "## Importing packages"
   ]
  },
  {
   "cell_type": "code",
   "execution_count": 1,
   "metadata": {},
   "outputs": [],
   "source": [
    "import pandas as pd\n",
    "import numpy as np\n",
    "import re\n",
    "from difflib import SequenceMatcher, get_close_matches\n",
    "from fuzzywuzzy import fuzz\n",
    "\n",
    "import warnings\n",
    "warnings.filterwarnings(\"ignore\")"
   ]
  },
  {
   "cell_type": "code",
   "execution_count": 2,
   "metadata": {},
   "outputs": [
    {
     "data": {
      "text/html": [
       "<div>\n",
       "<style scoped>\n",
       "    .dataframe tbody tr th:only-of-type {\n",
       "        vertical-align: middle;\n",
       "    }\n",
       "\n",
       "    .dataframe tbody tr th {\n",
       "        vertical-align: top;\n",
       "    }\n",
       "\n",
       "    .dataframe thead th {\n",
       "        text-align: right;\n",
       "    }\n",
       "</style>\n",
       "<table border=\"1\" class=\"dataframe\">\n",
       "  <thead>\n",
       "    <tr style=\"text-align: right;\">\n",
       "      <th></th>\n",
       "      <th>Category</th>\n",
       "      <th>Product Name</th>\n",
       "      <th>Type</th>\n",
       "      <th>Weight</th>\n",
       "      <th>Carton Size</th>\n",
       "      <th>Distributor</th>\n",
       "      <th>Product Code</th>\n",
       "      <th>Product Id</th>\n",
       "      <th>Distributor Type</th>\n",
       "      <th>Manufacturer</th>\n",
       "      <th>Industry</th>\n",
       "      <th>Sub category</th>\n",
       "    </tr>\n",
       "  </thead>\n",
       "  <tbody>\n",
       "    <tr>\n",
       "      <th>0</th>\n",
       "      <td>Minerals and Supplements</td>\n",
       "      <td>Aviboost Aqua Block</td>\n",
       "      <td>1kg</td>\n",
       "      <td>1.0</td>\n",
       "      <td>1</td>\n",
       "      <td>Vital Animal Health</td>\n",
       "      <td>ANP001A</td>\n",
       "      <td>2672</td>\n",
       "      <td>1</td>\n",
       "      <td>Vital Animal Health</td>\n",
       "      <td>Agriculture</td>\n",
       "      <td>NaN</td>\n",
       "    </tr>\n",
       "    <tr>\n",
       "      <th>1</th>\n",
       "      <td>Minerals and Supplements</td>\n",
       "      <td>Aviboost CL-X Blue</td>\n",
       "      <td>1lt</td>\n",
       "      <td>1.0</td>\n",
       "      <td>1</td>\n",
       "      <td>Vital Animal Health</td>\n",
       "      <td>ANP061A</td>\n",
       "      <td>2674</td>\n",
       "      <td>1</td>\n",
       "      <td>Vital Animal Health</td>\n",
       "      <td>Agriculture</td>\n",
       "      <td>NaN</td>\n",
       "    </tr>\n",
       "    <tr>\n",
       "      <th>2</th>\n",
       "      <td>Minerals and Supplements</td>\n",
       "      <td>Aviboost Nutri Block</td>\n",
       "      <td>1kg</td>\n",
       "      <td>1.0</td>\n",
       "      <td>1</td>\n",
       "      <td>Vital Animal Health</td>\n",
       "      <td>ANP062A</td>\n",
       "      <td>2676</td>\n",
       "      <td>1</td>\n",
       "      <td>Vital Animal Health</td>\n",
       "      <td>Agriculture</td>\n",
       "      <td>NaN</td>\n",
       "    </tr>\n",
       "    <tr>\n",
       "      <th>3</th>\n",
       "      <td>Minerals and Supplements</td>\n",
       "      <td>Aviboost Spectrum</td>\n",
       "      <td>1lt</td>\n",
       "      <td>1.0</td>\n",
       "      <td>1</td>\n",
       "      <td>Vital Animal Health</td>\n",
       "      <td>ANP063A</td>\n",
       "      <td>2677</td>\n",
       "      <td>1</td>\n",
       "      <td>Vital Animal Health</td>\n",
       "      <td>Agriculture</td>\n",
       "      <td>NaN</td>\n",
       "    </tr>\n",
       "    <tr>\n",
       "      <th>4</th>\n",
       "      <td>Minerals and Supplements</td>\n",
       "      <td>Aviboost Poultry Tonic</td>\n",
       "      <td>1lt</td>\n",
       "      <td>1.0</td>\n",
       "      <td>1</td>\n",
       "      <td>Vital Animal Health</td>\n",
       "      <td>ANP003A</td>\n",
       "      <td>2678</td>\n",
       "      <td>1</td>\n",
       "      <td>Vital Animal Health</td>\n",
       "      <td>Agriculture</td>\n",
       "      <td>NaN</td>\n",
       "    </tr>\n",
       "  </tbody>\n",
       "</table>\n",
       "</div>"
      ],
      "text/plain": [
       "                   Category            Product Name Type  Weight  Carton Size   \n",
       "0  Minerals and Supplements     Aviboost Aqua Block  1kg     1.0            1  \\\n",
       "1  Minerals and Supplements      Aviboost CL-X Blue  1lt     1.0            1   \n",
       "2  Minerals and Supplements    Aviboost Nutri Block  1kg     1.0            1   \n",
       "3  Minerals and Supplements       Aviboost Spectrum  1lt     1.0            1   \n",
       "4  Minerals and Supplements  Aviboost Poultry Tonic  1lt     1.0            1   \n",
       "\n",
       "           Distributor Product Code  Product Id  Distributor Type   \n",
       "0  Vital Animal Health      ANP001A        2672                 1  \\\n",
       "1  Vital Animal Health      ANP061A        2674                 1   \n",
       "2  Vital Animal Health      ANP062A        2676                 1   \n",
       "3  Vital Animal Health      ANP063A        2677                 1   \n",
       "4  Vital Animal Health      ANP003A        2678                 1   \n",
       "\n",
       "          Manufacturer     Industry Sub category  \n",
       "0  Vital Animal Health  Agriculture          NaN  \n",
       "1  Vital Animal Health  Agriculture          NaN  \n",
       "2  Vital Animal Health  Agriculture          NaN  \n",
       "3  Vital Animal Health  Agriculture          NaN  \n",
       "4  Vital Animal Health  Agriculture          NaN  "
      ]
     },
     "execution_count": 2,
     "metadata": {},
     "output_type": "execute_result"
    }
   ],
   "source": [
    "# loading the product list\n",
    "iprocure_prods_df = pd.read_excel('/home/natasha/Documents/Iprocure/Clustering-for-Product-Matching/data/data_v2/product_list.xlsx')\n",
    "cols = iprocure_prods_df.columns[:15]\n",
    "iprocure_prods_df = iprocure_prods_df[cols]\n",
    "iprocure_prods_df.drop(['Unit Cost', 'Unnamed: 10', 'Active'], axis = 1, inplace = True)\n",
    "\n",
    "# dropping product_name duplicates\n",
    "iprocure_prods_df = iprocure_prods_df.drop_duplicates(subset=['Product Name'], keep='first').reset_index(drop=True)\n",
    "\n",
    "pd.set_option('display.max_columns',None)\n",
    "iprocure_prods_df.head()"
   ]
  },
  {
   "cell_type": "code",
   "execution_count": 3,
   "metadata": {},
   "outputs": [
    {
     "data": {
      "text/plain": [
       "(4771, 12)"
      ]
     },
     "execution_count": 3,
     "metadata": {},
     "output_type": "execute_result"
    }
   ],
   "source": [
    "# size of dataset\n",
    "iprocure_prods_df.shape"
   ]
  },
  {
   "cell_type": "code",
   "execution_count": 4,
   "metadata": {},
   "outputs": [],
   "source": [
    "iprocure_categories = iprocure_prods_df['Category'].str.lower().sort_values().unique().tolist()"
   ]
  },
  {
   "cell_type": "code",
   "execution_count": 5,
   "metadata": {},
   "outputs": [
    {
     "data": {
      "text/html": [
       "<div>\n",
       "<style scoped>\n",
       "    .dataframe tbody tr th:only-of-type {\n",
       "        vertical-align: middle;\n",
       "    }\n",
       "\n",
       "    .dataframe tbody tr th {\n",
       "        vertical-align: top;\n",
       "    }\n",
       "\n",
       "    .dataframe thead th {\n",
       "        text-align: right;\n",
       "    }\n",
       "</style>\n",
       "<table border=\"1\" class=\"dataframe\">\n",
       "  <thead>\n",
       "    <tr style=\"text-align: right;\">\n",
       "      <th></th>\n",
       "      <th>product_name</th>\n",
       "      <th>category_name</th>\n",
       "      <th>sub_category</th>\n",
       "    </tr>\n",
       "  </thead>\n",
       "  <tbody>\n",
       "    <tr>\n",
       "      <th>0</th>\n",
       "      <td>gradometer 480 ec</td>\n",
       "      <td>local</td>\n",
       "      <td>NaN</td>\n",
       "    </tr>\n",
       "    <tr>\n",
       "      <th>1</th>\n",
       "      <td>magazine east african</td>\n",
       "      <td>locall</td>\n",
       "      <td>NaN</td>\n",
       "    </tr>\n",
       "    <tr>\n",
       "      <th>2</th>\n",
       "      <td>vectoclor</td>\n",
       "      <td>veterinary products</td>\n",
       "      <td>NaN</td>\n",
       "    </tr>\n",
       "    <tr>\n",
       "      <th>3</th>\n",
       "      <td>chastity perfume men</td>\n",
       "      <td>perfume</td>\n",
       "      <td>NaN</td>\n",
       "    </tr>\n",
       "    <tr>\n",
       "      <th>4</th>\n",
       "      <td>pannar 15m sunflower</td>\n",
       "      <td>seeds</td>\n",
       "      <td>NaN</td>\n",
       "    </tr>\n",
       "  </tbody>\n",
       "</table>\n",
       "</div>"
      ],
      "text/plain": [
       "            product_name        category_name sub_category\n",
       "0      gradometer 480 ec                local          NaN\n",
       "1  magazine east african               locall          NaN\n",
       "2              vectoclor  veterinary products          NaN\n",
       "3   chastity perfume men              perfume          NaN\n",
       "4   pannar 15m sunflower                seeds          NaN"
      ]
     },
     "execution_count": 5,
     "metadata": {},
     "output_type": "execute_result"
    }
   ],
   "source": [
    "# loading category data\n",
    "category_df = pd.read_csv('/home/natasha/Documents/Iprocure/Clustering-for-Product-Matching/data/data_v2/dirty_category_data.csv')\n",
    "\n",
    "# dropping duplicates and renaning col\n",
    "category_df.rename(columns={'correct_product_match': 'product_name'},inplace=True)\n",
    "category_df[['category_name', 'product_name']] = category_df[['category_name', 'product_name']].applymap(lambda x: str(x).lower().strip())\n",
    "\n",
    "category_df.head()"
   ]
  },
  {
   "cell_type": "code",
   "execution_count": 6,
   "metadata": {},
   "outputs": [],
   "source": [
    "stored_category_df = category_df.copy()"
   ]
  },
  {
   "cell_type": "code",
   "execution_count": 9,
   "metadata": {},
   "outputs": [
    {
     "data": {
      "text/html": [
       "<div>\n",
       "<style scoped>\n",
       "    .dataframe tbody tr th:only-of-type {\n",
       "        vertical-align: middle;\n",
       "    }\n",
       "\n",
       "    .dataframe tbody tr th {\n",
       "        vertical-align: top;\n",
       "    }\n",
       "\n",
       "    .dataframe thead th {\n",
       "        text-align: right;\n",
       "    }\n",
       "</style>\n",
       "<table border=\"1\" class=\"dataframe\">\n",
       "  <thead>\n",
       "    <tr style=\"text-align: right;\">\n",
       "      <th></th>\n",
       "      <th>product_name</th>\n",
       "      <th>category_name</th>\n",
       "      <th>sub_category</th>\n",
       "    </tr>\n",
       "  </thead>\n",
       "  <tbody>\n",
       "    <tr>\n",
       "      <th>1</th>\n",
       "      <td>magazine east african</td>\n",
       "      <td>locall</td>\n",
       "      <td>NaN</td>\n",
       "    </tr>\n",
       "    <tr>\n",
       "      <th>2</th>\n",
       "      <td>vectoclor</td>\n",
       "      <td>veterinary products</td>\n",
       "      <td>NaN</td>\n",
       "    </tr>\n",
       "    <tr>\n",
       "      <th>3</th>\n",
       "      <td>chastity perfume men</td>\n",
       "      <td>perfume</td>\n",
       "      <td>NaN</td>\n",
       "    </tr>\n",
       "    <tr>\n",
       "      <th>4</th>\n",
       "      <td>pannar 15m sunflower</td>\n",
       "      <td>seeds</td>\n",
       "      <td>NaN</td>\n",
       "    </tr>\n",
       "    <tr>\n",
       "      <th>6</th>\n",
       "      <td>motor rewinding induction</td>\n",
       "      <td>motor rewinding ( service)</td>\n",
       "      <td>NaN</td>\n",
       "    </tr>\n",
       "  </tbody>\n",
       "</table>\n",
       "</div>"
      ],
      "text/plain": [
       "                product_name               category_name sub_category\n",
       "1      magazine east african                      locall          NaN\n",
       "2                  vectoclor         veterinary products          NaN\n",
       "3       chastity perfume men                     perfume          NaN\n",
       "4       pannar 15m sunflower                       seeds          NaN\n",
       "6  motor rewinding induction  motor rewinding ( service)          NaN"
      ]
     },
     "execution_count": 9,
     "metadata": {},
     "output_type": "execute_result"
    }
   ],
   "source": [
    "category_mask = category_df['category_name'].isin(iprocure_categories)\n",
    "no_category_mask = ~category_df['product_name'].isin(category_df.loc[category_mask, 'product_name'])\n",
    "\n",
    "# Step 2: Combine masks to select rows to keep\n",
    "keep_rows_mask = category_mask | no_category_mask\n",
    "\n",
    "# Step 3: Use .drop_duplicates() to keep first occurrence based on the combined mask\n",
    "category_df = category_df[keep_rows_mask].drop_duplicates(subset=['product_name'], keep='first')\n",
    "\n",
    "category_df.head()"
   ]
  },
  {
   "cell_type": "code",
   "execution_count": 10,
   "metadata": {},
   "outputs": [
    {
     "data": {
      "text/html": [
       "<div>\n",
       "<style scoped>\n",
       "    .dataframe tbody tr th:only-of-type {\n",
       "        vertical-align: middle;\n",
       "    }\n",
       "\n",
       "    .dataframe tbody tr th {\n",
       "        vertical-align: top;\n",
       "    }\n",
       "\n",
       "    .dataframe thead th {\n",
       "        text-align: right;\n",
       "    }\n",
       "</style>\n",
       "<table border=\"1\" class=\"dataframe\">\n",
       "  <thead>\n",
       "    <tr style=\"text-align: right;\">\n",
       "      <th></th>\n",
       "      <th>product_name</th>\n",
       "      <th>category_name</th>\n",
       "      <th>sub_category</th>\n",
       "    </tr>\n",
       "  </thead>\n",
       "  <tbody>\n",
       "    <tr>\n",
       "      <th>11007</th>\n",
       "      <td>gradometer 480 ec</td>\n",
       "      <td>medicines for other conditions</td>\n",
       "      <td>NaN</td>\n",
       "    </tr>\n",
       "  </tbody>\n",
       "</table>\n",
       "</div>"
      ],
      "text/plain": [
       "            product_name                   category_name sub_category\n",
       "11007  gradometer 480 ec  medicines for other conditions          NaN"
      ]
     },
     "execution_count": 10,
     "metadata": {},
     "output_type": "execute_result"
    }
   ],
   "source": [
    "category_df[category_df['product_name'] == 'gradometer 480 ec']"
   ]
  },
  {
   "cell_type": "code",
   "execution_count": 11,
   "metadata": {},
   "outputs": [
    {
     "data": {
      "text/plain": [
       "(22591, 3)"
      ]
     },
     "execution_count": 11,
     "metadata": {},
     "output_type": "execute_result"
    }
   ],
   "source": [
    "# size of dataset\n",
    "category_df.shape"
   ]
  },
  {
   "cell_type": "code",
   "execution_count": 12,
   "metadata": {},
   "outputs": [
    {
     "data": {
      "text/plain": [
       "product_name         0\n",
       "category_name        0\n",
       "sub_category     22225\n",
       "dtype: int64"
      ]
     },
     "execution_count": 12,
     "metadata": {},
     "output_type": "execute_result"
    }
   ],
   "source": [
    "category_df.isna().sum()"
   ]
  },
  {
   "cell_type": "code",
   "execution_count": 13,
   "metadata": {},
   "outputs": [
    {
     "data": {
      "text/html": [
       "<div>\n",
       "<style scoped>\n",
       "    .dataframe tbody tr th:only-of-type {\n",
       "        vertical-align: middle;\n",
       "    }\n",
       "\n",
       "    .dataframe tbody tr th {\n",
       "        vertical-align: top;\n",
       "    }\n",
       "\n",
       "    .dataframe thead th {\n",
       "        text-align: right;\n",
       "    }\n",
       "</style>\n",
       "<table border=\"1\" class=\"dataframe\">\n",
       "  <thead>\n",
       "    <tr style=\"text-align: right;\">\n",
       "      <th></th>\n",
       "      <th>Category</th>\n",
       "      <th>product_name</th>\n",
       "      <th>Type</th>\n",
       "      <th>Weight</th>\n",
       "      <th>Carton Size</th>\n",
       "      <th>Distributor</th>\n",
       "      <th>Product Code</th>\n",
       "      <th>Product Id</th>\n",
       "      <th>Distributor Type</th>\n",
       "      <th>Manufacturer</th>\n",
       "      <th>Industry</th>\n",
       "      <th>Sub category</th>\n",
       "    </tr>\n",
       "  </thead>\n",
       "  <tbody>\n",
       "    <tr>\n",
       "      <th>0</th>\n",
       "      <td>minerals and supplements</td>\n",
       "      <td>aviboost aqua block</td>\n",
       "      <td>1kg</td>\n",
       "      <td>1.0</td>\n",
       "      <td>1</td>\n",
       "      <td>Vital Animal Health</td>\n",
       "      <td>ANP001A</td>\n",
       "      <td>2672</td>\n",
       "      <td>1</td>\n",
       "      <td>Vital Animal Health</td>\n",
       "      <td>Agriculture</td>\n",
       "      <td>NaN</td>\n",
       "    </tr>\n",
       "    <tr>\n",
       "      <th>1</th>\n",
       "      <td>minerals and supplements</td>\n",
       "      <td>aviboost cl-x blue</td>\n",
       "      <td>1lt</td>\n",
       "      <td>1.0</td>\n",
       "      <td>1</td>\n",
       "      <td>Vital Animal Health</td>\n",
       "      <td>ANP061A</td>\n",
       "      <td>2674</td>\n",
       "      <td>1</td>\n",
       "      <td>Vital Animal Health</td>\n",
       "      <td>Agriculture</td>\n",
       "      <td>NaN</td>\n",
       "    </tr>\n",
       "    <tr>\n",
       "      <th>2</th>\n",
       "      <td>minerals and supplements</td>\n",
       "      <td>aviboost nutri block</td>\n",
       "      <td>1kg</td>\n",
       "      <td>1.0</td>\n",
       "      <td>1</td>\n",
       "      <td>Vital Animal Health</td>\n",
       "      <td>ANP062A</td>\n",
       "      <td>2676</td>\n",
       "      <td>1</td>\n",
       "      <td>Vital Animal Health</td>\n",
       "      <td>Agriculture</td>\n",
       "      <td>NaN</td>\n",
       "    </tr>\n",
       "    <tr>\n",
       "      <th>3</th>\n",
       "      <td>minerals and supplements</td>\n",
       "      <td>aviboost spectrum</td>\n",
       "      <td>1lt</td>\n",
       "      <td>1.0</td>\n",
       "      <td>1</td>\n",
       "      <td>Vital Animal Health</td>\n",
       "      <td>ANP063A</td>\n",
       "      <td>2677</td>\n",
       "      <td>1</td>\n",
       "      <td>Vital Animal Health</td>\n",
       "      <td>Agriculture</td>\n",
       "      <td>NaN</td>\n",
       "    </tr>\n",
       "    <tr>\n",
       "      <th>4</th>\n",
       "      <td>minerals and supplements</td>\n",
       "      <td>aviboost poultry tonic</td>\n",
       "      <td>1lt</td>\n",
       "      <td>1.0</td>\n",
       "      <td>1</td>\n",
       "      <td>Vital Animal Health</td>\n",
       "      <td>ANP003A</td>\n",
       "      <td>2678</td>\n",
       "      <td>1</td>\n",
       "      <td>Vital Animal Health</td>\n",
       "      <td>Agriculture</td>\n",
       "      <td>NaN</td>\n",
       "    </tr>\n",
       "  </tbody>\n",
       "</table>\n",
       "</div>"
      ],
      "text/plain": [
       "                   Category            product_name Type  Weight  Carton Size   \n",
       "0  minerals and supplements     aviboost aqua block  1kg     1.0            1  \\\n",
       "1  minerals and supplements      aviboost cl-x blue  1lt     1.0            1   \n",
       "2  minerals and supplements    aviboost nutri block  1kg     1.0            1   \n",
       "3  minerals and supplements       aviboost spectrum  1lt     1.0            1   \n",
       "4  minerals and supplements  aviboost poultry tonic  1lt     1.0            1   \n",
       "\n",
       "           Distributor Product Code  Product Id  Distributor Type   \n",
       "0  Vital Animal Health      ANP001A        2672                 1  \\\n",
       "1  Vital Animal Health      ANP061A        2674                 1   \n",
       "2  Vital Animal Health      ANP062A        2676                 1   \n",
       "3  Vital Animal Health      ANP063A        2677                 1   \n",
       "4  Vital Animal Health      ANP003A        2678                 1   \n",
       "\n",
       "          Manufacturer     Industry Sub category  \n",
       "0  Vital Animal Health  Agriculture          NaN  \n",
       "1  Vital Animal Health  Agriculture          NaN  \n",
       "2  Vital Animal Health  Agriculture          NaN  \n",
       "3  Vital Animal Health  Agriculture          NaN  \n",
       "4  Vital Animal Health  Agriculture          NaN  "
      ]
     },
     "execution_count": 13,
     "metadata": {},
     "output_type": "execute_result"
    }
   ],
   "source": [
    "# changing product name and category columns to lowercase\n",
    "iprocure_prods_df[['Category', 'Product Name']] = iprocure_prods_df[['Category', 'Product Name']].applymap(lambda x: str(x).lower())\n",
    "\n",
    "# renaming product name\n",
    "iprocure_prods_df.rename(columns={'Product Name': 'product_name'}, inplace=True)\n",
    "iprocure_prods_df.head()"
   ]
  },
  {
   "cell_type": "code",
   "execution_count": 16,
   "metadata": {},
   "outputs": [
    {
     "data": {
      "text/plain": [
       "(22591, 3)"
      ]
     },
     "execution_count": 16,
     "metadata": {},
     "output_type": "execute_result"
    }
   ],
   "source": [
    "category_df.drop_duplicates(subset=['product_name'], keep='first', inplace=True)\n",
    "category_df.shape"
   ]
  },
  {
   "cell_type": "code",
   "execution_count": 17,
   "metadata": {},
   "outputs": [
    {
     "data": {
      "text/html": [
       "<div>\n",
       "<style scoped>\n",
       "    .dataframe tbody tr th:only-of-type {\n",
       "        vertical-align: middle;\n",
       "    }\n",
       "\n",
       "    .dataframe tbody tr th {\n",
       "        vertical-align: top;\n",
       "    }\n",
       "\n",
       "    .dataframe thead th {\n",
       "        text-align: right;\n",
       "    }\n",
       "</style>\n",
       "<table border=\"1\" class=\"dataframe\">\n",
       "  <thead>\n",
       "    <tr style=\"text-align: right;\">\n",
       "      <th></th>\n",
       "      <th>product_name</th>\n",
       "      <th>category_name</th>\n",
       "      <th>sub_category</th>\n",
       "      <th>Category</th>\n",
       "      <th>Sub category</th>\n",
       "    </tr>\n",
       "  </thead>\n",
       "  <tbody>\n",
       "    <tr>\n",
       "      <th>0</th>\n",
       "      <td>magazine east african</td>\n",
       "      <td>locall</td>\n",
       "      <td>NaN</td>\n",
       "      <td>NaN</td>\n",
       "      <td>NaN</td>\n",
       "    </tr>\n",
       "    <tr>\n",
       "      <th>1</th>\n",
       "      <td>vectoclor</td>\n",
       "      <td>veterinary products</td>\n",
       "      <td>NaN</td>\n",
       "      <td>veterinary products</td>\n",
       "      <td>NaN</td>\n",
       "    </tr>\n",
       "    <tr>\n",
       "      <th>2</th>\n",
       "      <td>chastity perfume men</td>\n",
       "      <td>perfume</td>\n",
       "      <td>NaN</td>\n",
       "      <td>NaN</td>\n",
       "      <td>NaN</td>\n",
       "    </tr>\n",
       "    <tr>\n",
       "      <th>3</th>\n",
       "      <td>pannar 15m sunflower</td>\n",
       "      <td>seeds</td>\n",
       "      <td>NaN</td>\n",
       "      <td>NaN</td>\n",
       "      <td>NaN</td>\n",
       "    </tr>\n",
       "    <tr>\n",
       "      <th>4</th>\n",
       "      <td>motor rewinding induction</td>\n",
       "      <td>motor rewinding ( service)</td>\n",
       "      <td>NaN</td>\n",
       "      <td>NaN</td>\n",
       "      <td>NaN</td>\n",
       "    </tr>\n",
       "  </tbody>\n",
       "</table>\n",
       "</div>"
      ],
      "text/plain": [
       "                product_name               category_name sub_category   \n",
       "0      magazine east african                      locall          NaN  \\\n",
       "1                  vectoclor         veterinary products          NaN   \n",
       "2       chastity perfume men                     perfume          NaN   \n",
       "3       pannar 15m sunflower                       seeds          NaN   \n",
       "4  motor rewinding induction  motor rewinding ( service)          NaN   \n",
       "\n",
       "              Category Sub category  \n",
       "0                  NaN          NaN  \n",
       "1  veterinary products          NaN  \n",
       "2                  NaN          NaN  \n",
       "3                  NaN          NaN  \n",
       "4                  NaN          NaN  "
      ]
     },
     "execution_count": 17,
     "metadata": {},
     "output_type": "execute_result"
    }
   ],
   "source": [
    "category_df = category_df.merge(iprocure_prods_df[['product_name', 'Category', 'Sub category']], on='product_name', how='left')\n",
    "category_df.drop_duplicates(subset=['product_name'], keep='first', inplace=True)\n",
    "category_df.head()"
   ]
  },
  {
   "cell_type": "code",
   "execution_count": 18,
   "metadata": {},
   "outputs": [
    {
     "data": {
      "text/plain": [
       "(22591, 5)"
      ]
     },
     "execution_count": 18,
     "metadata": {},
     "output_type": "execute_result"
    }
   ],
   "source": [
    "category_df.shape"
   ]
  },
  {
   "cell_type": "code",
   "execution_count": 19,
   "metadata": {},
   "outputs": [
    {
     "data": {
      "text/plain": [
       "product_name         0\n",
       "category_name        0\n",
       "sub_category     22225\n",
       "Category         19226\n",
       "Sub category     21434\n",
       "dtype: int64"
      ]
     },
     "execution_count": 19,
     "metadata": {},
     "output_type": "execute_result"
    }
   ],
   "source": [
    "category_df.isna().sum()"
   ]
  },
  {
   "attachments": {},
   "cell_type": "markdown",
   "metadata": {},
   "source": [
    "### Cleaning category column"
   ]
  },
  {
   "cell_type": "code",
   "execution_count": 20,
   "metadata": {},
   "outputs": [
    {
     "data": {
      "text/html": [
       "<div>\n",
       "<style scoped>\n",
       "    .dataframe tbody tr th:only-of-type {\n",
       "        vertical-align: middle;\n",
       "    }\n",
       "\n",
       "    .dataframe tbody tr th {\n",
       "        vertical-align: top;\n",
       "    }\n",
       "\n",
       "    .dataframe thead th {\n",
       "        text-align: right;\n",
       "    }\n",
       "</style>\n",
       "<table border=\"1\" class=\"dataframe\">\n",
       "  <thead>\n",
       "    <tr style=\"text-align: right;\">\n",
       "      <th></th>\n",
       "      <th>product_name</th>\n",
       "      <th>category_name</th>\n",
       "      <th>sub_category</th>\n",
       "      <th>Category</th>\n",
       "      <th>Sub category</th>\n",
       "    </tr>\n",
       "  </thead>\n",
       "  <tbody>\n",
       "    <tr>\n",
       "      <th>0</th>\n",
       "      <td>magazine east african</td>\n",
       "      <td>locall</td>\n",
       "      <td>NaN</td>\n",
       "      <td>locall</td>\n",
       "      <td>NaN</td>\n",
       "    </tr>\n",
       "    <tr>\n",
       "      <th>1</th>\n",
       "      <td>vectoclor</td>\n",
       "      <td>veterinary products</td>\n",
       "      <td>NaN</td>\n",
       "      <td>veterinary products</td>\n",
       "      <td>NaN</td>\n",
       "    </tr>\n",
       "    <tr>\n",
       "      <th>2</th>\n",
       "      <td>chastity perfume men</td>\n",
       "      <td>perfume</td>\n",
       "      <td>NaN</td>\n",
       "      <td>perfume</td>\n",
       "      <td>NaN</td>\n",
       "    </tr>\n",
       "    <tr>\n",
       "      <th>3</th>\n",
       "      <td>pannar 15m sunflower</td>\n",
       "      <td>seeds</td>\n",
       "      <td>NaN</td>\n",
       "      <td>seeds</td>\n",
       "      <td>NaN</td>\n",
       "    </tr>\n",
       "    <tr>\n",
       "      <th>4</th>\n",
       "      <td>motor rewinding induction</td>\n",
       "      <td>motor rewinding ( service)</td>\n",
       "      <td>NaN</td>\n",
       "      <td>motor rewinding ( service)</td>\n",
       "      <td>NaN</td>\n",
       "    </tr>\n",
       "  </tbody>\n",
       "</table>\n",
       "</div>"
      ],
      "text/plain": [
       "                product_name               category_name sub_category   \n",
       "0      magazine east african                      locall          NaN  \\\n",
       "1                  vectoclor         veterinary products          NaN   \n",
       "2       chastity perfume men                     perfume          NaN   \n",
       "3       pannar 15m sunflower                       seeds          NaN   \n",
       "4  motor rewinding induction  motor rewinding ( service)          NaN   \n",
       "\n",
       "                     Category Sub category  \n",
       "0                      locall          NaN  \n",
       "1         veterinary products          NaN  \n",
       "2                     perfume          NaN  \n",
       "3                       seeds          NaN  \n",
       "4  motor rewinding ( service)          NaN  "
      ]
     },
     "execution_count": 20,
     "metadata": {},
     "output_type": "execute_result"
    }
   ],
   "source": [
    "category_df['Category'] = np.where(category_df['Category'].isna(), category_df['category_name'], category_df['Category'])\n",
    "category_df.head()"
   ]
  },
  {
   "cell_type": "code",
   "execution_count": 21,
   "metadata": {},
   "outputs": [
    {
     "data": {
      "text/plain": [
       "product_name         0\n",
       "category_name        0\n",
       "sub_category     22225\n",
       "Category             0\n",
       "Sub category     21434\n",
       "dtype: int64"
      ]
     },
     "execution_count": 21,
     "metadata": {},
     "output_type": "execute_result"
    }
   ],
   "source": [
    "category_df.isna().sum()"
   ]
  },
  {
   "cell_type": "code",
   "execution_count": 22,
   "metadata": {},
   "outputs": [
    {
     "data": {
      "text/html": [
       "<div>\n",
       "<style scoped>\n",
       "    .dataframe tbody tr th:only-of-type {\n",
       "        vertical-align: middle;\n",
       "    }\n",
       "\n",
       "    .dataframe tbody tr th {\n",
       "        vertical-align: top;\n",
       "    }\n",
       "\n",
       "    .dataframe thead th {\n",
       "        text-align: right;\n",
       "    }\n",
       "</style>\n",
       "<table border=\"1\" class=\"dataframe\">\n",
       "  <thead>\n",
       "    <tr style=\"text-align: right;\">\n",
       "      <th></th>\n",
       "      <th>category</th>\n",
       "      <th>match</th>\n",
       "      <th>score</th>\n",
       "    </tr>\n",
       "  </thead>\n",
       "  <tbody>\n",
       "    <tr>\n",
       "      <th>0</th>\n",
       "      <td>locall</td>\n",
       "      <td>dermatologicals</td>\n",
       "      <td>67</td>\n",
       "    </tr>\n",
       "    <tr>\n",
       "      <th>2</th>\n",
       "      <td>perfume</td>\n",
       "      <td>minerals and supplements</td>\n",
       "      <td>57</td>\n",
       "    </tr>\n",
       "    <tr>\n",
       "      <th>4</th>\n",
       "      <td>motor rewinding ( service)</td>\n",
       "      <td>services</td>\n",
       "      <td>88</td>\n",
       "    </tr>\n",
       "    <tr>\n",
       "      <th>5</th>\n",
       "      <td>medicine</td>\n",
       "      <td>medicine for pain and palliative care</td>\n",
       "      <td>100</td>\n",
       "    </tr>\n",
       "    <tr>\n",
       "      <th>6</th>\n",
       "      <td>tabs</td>\n",
       "      <td>minerals and supplements</td>\n",
       "      <td>50</td>\n",
       "    </tr>\n",
       "  </tbody>\n",
       "</table>\n",
       "</div>"
      ],
      "text/plain": [
       "                     category                                  match  score\n",
       "0                      locall                        dermatologicals     67\n",
       "2                     perfume               minerals and supplements     57\n",
       "4  motor rewinding ( service)                               services     88\n",
       "5                    medicine  medicine for pain and palliative care    100\n",
       "6                        tabs               minerals and supplements     50"
      ]
     },
     "execution_count": 22,
     "metadata": {},
     "output_type": "execute_result"
    }
   ],
   "source": [
    "# cleaning category column\n",
    "categories = iprocure_prods_df['Category'].unique().tolist()\n",
    "\n",
    "wrong_categories_df = category_df[~category_df['Category'].isin(categories)]\n",
    "wrong_categories_df = wrong_categories_df.drop_duplicates(subset='Category', keep='first')\n",
    "\n",
    "# cleanup function\n",
    "def compare(i):\n",
    "    comparison = {}\n",
    "    if isinstance(i, str):\n",
    "        comparison.update({i: max(categories, key=lambda category: fuzz.partial_ratio(i, category))})\n",
    "    category = list(comparison.keys()) if comparison else None\n",
    "    match = []\n",
    "    score = []\n",
    "    if comparison:\n",
    "        for key, value in comparison.items():\n",
    "            match.append(value)\n",
    "            score.append(round(fuzz.partial_ratio(i, value), 2))\n",
    "    else:\n",
    "        match.append(None)\n",
    "        score.append(None)\n",
    "\n",
    "    return pd.Series([category, match, score], index=['category', 'match', 'score'])\n",
    "\n",
    "cleaned_categories_df = pd.DataFrame()\n",
    "cleaned_categories_df[['category', 'match', 'score']] = wrong_categories_df['Category'].apply(lambda x: compare(x))\n",
    "cleaned_categories_df = cleaned_categories_df.applymap(lambda x: x[0] if x else '')\n",
    "cleaned_categories_df.head()"
   ]
  },
  {
   "cell_type": "code",
   "execution_count": 30,
   "metadata": {},
   "outputs": [
    {
     "data": {
      "text/html": [
       "<div>\n",
       "<style scoped>\n",
       "    .dataframe tbody tr th:only-of-type {\n",
       "        vertical-align: middle;\n",
       "    }\n",
       "\n",
       "    .dataframe tbody tr th {\n",
       "        vertical-align: top;\n",
       "    }\n",
       "\n",
       "    .dataframe thead th {\n",
       "        text-align: right;\n",
       "    }\n",
       "</style>\n",
       "<table border=\"1\" class=\"dataframe\">\n",
       "  <thead>\n",
       "    <tr style=\"text-align: right;\">\n",
       "      <th></th>\n",
       "      <th>Category</th>\n",
       "      <th>match</th>\n",
       "      <th>score</th>\n",
       "    </tr>\n",
       "  </thead>\n",
       "  <tbody>\n",
       "    <tr>\n",
       "      <th>4</th>\n",
       "      <td>motor rewinding ( service)</td>\n",
       "      <td>services</td>\n",
       "      <td>88</td>\n",
       "    </tr>\n",
       "    <tr>\n",
       "      <th>5</th>\n",
       "      <td>medicine</td>\n",
       "      <td>medicine for pain and palliative care</td>\n",
       "      <td>100</td>\n",
       "    </tr>\n",
       "    <tr>\n",
       "      <th>11</th>\n",
       "      <td>tool</td>\n",
       "      <td>tools and equipment</td>\n",
       "      <td>100</td>\n",
       "    </tr>\n",
       "    <tr>\n",
       "      <th>14</th>\n",
       "      <td>vegetable seeds</td>\n",
       "      <td>seeds</td>\n",
       "      <td>100</td>\n",
       "    </tr>\n",
       "    <tr>\n",
       "      <th>17</th>\n",
       "      <td>vest</td>\n",
       "      <td>anti-infectives</td>\n",
       "      <td>86</td>\n",
       "    </tr>\n",
       "  </tbody>\n",
       "</table>\n",
       "</div>"
      ],
      "text/plain": [
       "                      Category                                  match  score\n",
       "4   motor rewinding ( service)                               services     88\n",
       "5                     medicine  medicine for pain and palliative care    100\n",
       "11                        tool                    tools and equipment    100\n",
       "14             vegetable seeds                                  seeds    100\n",
       "17                        vest                        anti-infectives     86"
      ]
     },
     "execution_count": 30,
     "metadata": {},
     "output_type": "execute_result"
    }
   ],
   "source": [
    "# replacing incorrect category names\n",
    "category_matches_df = cleaned_categories_df[cleaned_categories_df['score'] >= 85]\n",
    "category_matches_df = category_matches_df.rename(columns={'category': 'Category'})\n",
    "category_matches_df.head()"
   ]
  },
  {
   "cell_type": "code",
   "execution_count": 31,
   "metadata": {},
   "outputs": [
    {
     "data": {
      "text/html": [
       "<div>\n",
       "<style scoped>\n",
       "    .dataframe tbody tr th:only-of-type {\n",
       "        vertical-align: middle;\n",
       "    }\n",
       "\n",
       "    .dataframe tbody tr th {\n",
       "        vertical-align: top;\n",
       "    }\n",
       "\n",
       "    .dataframe thead th {\n",
       "        text-align: right;\n",
       "    }\n",
       "</style>\n",
       "<table border=\"1\" class=\"dataframe\">\n",
       "  <thead>\n",
       "    <tr style=\"text-align: right;\">\n",
       "      <th></th>\n",
       "      <th>product_name</th>\n",
       "      <th>sub_category</th>\n",
       "      <th>Sub category</th>\n",
       "      <th>category_name</th>\n",
       "    </tr>\n",
       "  </thead>\n",
       "  <tbody>\n",
       "    <tr>\n",
       "      <th>0</th>\n",
       "      <td>magazine east african</td>\n",
       "      <td>NaN</td>\n",
       "      <td>NaN</td>\n",
       "      <td>locall</td>\n",
       "    </tr>\n",
       "    <tr>\n",
       "      <th>1</th>\n",
       "      <td>vectoclor</td>\n",
       "      <td>NaN</td>\n",
       "      <td>NaN</td>\n",
       "      <td>veterinary products</td>\n",
       "    </tr>\n",
       "    <tr>\n",
       "      <th>2</th>\n",
       "      <td>chastity perfume men</td>\n",
       "      <td>NaN</td>\n",
       "      <td>NaN</td>\n",
       "      <td>perfume</td>\n",
       "    </tr>\n",
       "    <tr>\n",
       "      <th>3</th>\n",
       "      <td>pannar 15m sunflower</td>\n",
       "      <td>NaN</td>\n",
       "      <td>NaN</td>\n",
       "      <td>seeds</td>\n",
       "    </tr>\n",
       "    <tr>\n",
       "      <th>4</th>\n",
       "      <td>motor rewinding induction</td>\n",
       "      <td>NaN</td>\n",
       "      <td>NaN</td>\n",
       "      <td>services</td>\n",
       "    </tr>\n",
       "  </tbody>\n",
       "</table>\n",
       "</div>"
      ],
      "text/plain": [
       "                product_name sub_category Sub category        category_name\n",
       "0      magazine east african          NaN          NaN               locall\n",
       "1                  vectoclor          NaN          NaN  veterinary products\n",
       "2       chastity perfume men          NaN          NaN              perfume\n",
       "3       pannar 15m sunflower          NaN          NaN                seeds\n",
       "4  motor rewinding induction          NaN          NaN             services"
      ]
     },
     "execution_count": 31,
     "metadata": {},
     "output_type": "execute_result"
    }
   ],
   "source": [
    "category_df = category_df.merge(category_matches_df[['Category', 'match']], how='left', on='Category')\n",
    "category_df['match'] = np.where(category_df['match'].isna(), category_df['Category'], category_df['match'])\n",
    "category_df = category_df.drop(['category_name', 'Category'], axis = 1).\\\n",
    "    rename(columns={'match': 'category_name'})\n",
    "category_df.head()"
   ]
  },
  {
   "cell_type": "code",
   "execution_count": 32,
   "metadata": {},
   "outputs": [
    {
     "data": {
      "text/plain": [
       "product_name         0\n",
       "sub_category     22225\n",
       "Sub category     21434\n",
       "category_name        0\n",
       "dtype: int64"
      ]
     },
     "execution_count": 32,
     "metadata": {},
     "output_type": "execute_result"
    }
   ],
   "source": [
    "category_df.isna().sum()"
   ]
  },
  {
   "attachments": {},
   "cell_type": "markdown",
   "metadata": {},
   "source": [
    "### Cleaning sub-category column"
   ]
  },
  {
   "cell_type": "code",
   "execution_count": 33,
   "metadata": {},
   "outputs": [
    {
     "data": {
      "text/html": [
       "<div>\n",
       "<style scoped>\n",
       "    .dataframe tbody tr th:only-of-type {\n",
       "        vertical-align: middle;\n",
       "    }\n",
       "\n",
       "    .dataframe tbody tr th {\n",
       "        vertical-align: top;\n",
       "    }\n",
       "\n",
       "    .dataframe thead th {\n",
       "        text-align: right;\n",
       "    }\n",
       "</style>\n",
       "<table border=\"1\" class=\"dataframe\">\n",
       "  <thead>\n",
       "    <tr style=\"text-align: right;\">\n",
       "      <th></th>\n",
       "      <th>product_name</th>\n",
       "      <th>sub_category</th>\n",
       "      <th>Sub category</th>\n",
       "      <th>category_name</th>\n",
       "    </tr>\n",
       "  </thead>\n",
       "  <tbody>\n",
       "    <tr>\n",
       "      <th>0</th>\n",
       "      <td>magazine east african</td>\n",
       "      <td>NaN</td>\n",
       "      <td>NaN</td>\n",
       "      <td>locall</td>\n",
       "    </tr>\n",
       "    <tr>\n",
       "      <th>1</th>\n",
       "      <td>vectoclor</td>\n",
       "      <td>NaN</td>\n",
       "      <td>NaN</td>\n",
       "      <td>veterinary products</td>\n",
       "    </tr>\n",
       "    <tr>\n",
       "      <th>2</th>\n",
       "      <td>chastity perfume men</td>\n",
       "      <td>NaN</td>\n",
       "      <td>NaN</td>\n",
       "      <td>perfume</td>\n",
       "    </tr>\n",
       "    <tr>\n",
       "      <th>3</th>\n",
       "      <td>pannar 15m sunflower</td>\n",
       "      <td>NaN</td>\n",
       "      <td>NaN</td>\n",
       "      <td>seeds</td>\n",
       "    </tr>\n",
       "    <tr>\n",
       "      <th>4</th>\n",
       "      <td>motor rewinding induction</td>\n",
       "      <td>NaN</td>\n",
       "      <td>NaN</td>\n",
       "      <td>services</td>\n",
       "    </tr>\n",
       "  </tbody>\n",
       "</table>\n",
       "</div>"
      ],
      "text/plain": [
       "                product_name sub_category Sub category        category_name\n",
       "0      magazine east african          NaN          NaN               locall\n",
       "1                  vectoclor          NaN          NaN  veterinary products\n",
       "2       chastity perfume men          NaN          NaN              perfume\n",
       "3       pannar 15m sunflower          NaN          NaN                seeds\n",
       "4  motor rewinding induction          NaN          NaN             services"
      ]
     },
     "execution_count": 33,
     "metadata": {},
     "output_type": "execute_result"
    }
   ],
   "source": [
    "category_df['Sub category'] = np.where(category_df['Sub category'].isna(), category_df['sub_category'], category_df['Sub category'])\n",
    "category_df.head()"
   ]
  },
  {
   "cell_type": "code",
   "execution_count": 34,
   "metadata": {},
   "outputs": [
    {
     "data": {
      "text/plain": [
       "product_name         0\n",
       "sub_category     22225\n",
       "Sub category     21399\n",
       "category_name        0\n",
       "dtype: int64"
      ]
     },
     "execution_count": 34,
     "metadata": {},
     "output_type": "execute_result"
    }
   ],
   "source": [
    "category_df.isna().sum()"
   ]
  },
  {
   "cell_type": "code",
   "execution_count": 35,
   "metadata": {},
   "outputs": [
    {
     "data": {
      "text/plain": [
       "array([nan, 'Fungicide', 'Foliar Fertilizer', 'Cereal Seeds',\n",
       "       'Vegetable Seeds', 'Insecticide', 'Herbicide', 'Powder', 'Block',\n",
       "       'Foliar Fertilizers', 'Hygiene'], dtype=object)"
      ]
     },
     "execution_count": 35,
     "metadata": {},
     "output_type": "execute_result"
    }
   ],
   "source": [
    "category_df['Sub category'].unique()"
   ]
  },
  {
   "cell_type": "code",
   "execution_count": 36,
   "metadata": {},
   "outputs": [],
   "source": [
    "category_df['Sub category'] = category_df['Sub category'].replace('Foliar Fertilizers', 'Foliar Fertilizer')"
   ]
  },
  {
   "cell_type": "code",
   "execution_count": 37,
   "metadata": {},
   "outputs": [
    {
     "data": {
      "text/plain": [
       "(22591, 4)"
      ]
     },
     "execution_count": 37,
     "metadata": {},
     "output_type": "execute_result"
    }
   ],
   "source": [
    "category_df.shape"
   ]
  },
  {
   "cell_type": "code",
   "execution_count": 38,
   "metadata": {},
   "outputs": [
    {
     "data": {
      "text/html": [
       "<div>\n",
       "<style scoped>\n",
       "    .dataframe tbody tr th:only-of-type {\n",
       "        vertical-align: middle;\n",
       "    }\n",
       "\n",
       "    .dataframe tbody tr th {\n",
       "        vertical-align: top;\n",
       "    }\n",
       "\n",
       "    .dataframe thead th {\n",
       "        text-align: right;\n",
       "    }\n",
       "</style>\n",
       "<table border=\"1\" class=\"dataframe\">\n",
       "  <thead>\n",
       "    <tr style=\"text-align: right;\">\n",
       "      <th></th>\n",
       "      <th>product_name</th>\n",
       "      <th>sub_category</th>\n",
       "      <th>category_name</th>\n",
       "    </tr>\n",
       "  </thead>\n",
       "  <tbody>\n",
       "    <tr>\n",
       "      <th>0</th>\n",
       "      <td>magazine east african</td>\n",
       "      <td>NaN</td>\n",
       "      <td>locall</td>\n",
       "    </tr>\n",
       "    <tr>\n",
       "      <th>1</th>\n",
       "      <td>vectoclor</td>\n",
       "      <td>NaN</td>\n",
       "      <td>veterinary products</td>\n",
       "    </tr>\n",
       "    <tr>\n",
       "      <th>2</th>\n",
       "      <td>chastity perfume men</td>\n",
       "      <td>NaN</td>\n",
       "      <td>perfume</td>\n",
       "    </tr>\n",
       "    <tr>\n",
       "      <th>3</th>\n",
       "      <td>pannar 15m sunflower</td>\n",
       "      <td>NaN</td>\n",
       "      <td>seeds</td>\n",
       "    </tr>\n",
       "    <tr>\n",
       "      <th>4</th>\n",
       "      <td>motor rewinding induction</td>\n",
       "      <td>NaN</td>\n",
       "      <td>services</td>\n",
       "    </tr>\n",
       "  </tbody>\n",
       "</table>\n",
       "</div>"
      ],
      "text/plain": [
       "                product_name sub_category        category_name\n",
       "0      magazine east african          NaN               locall\n",
       "1                  vectoclor          NaN  veterinary products\n",
       "2       chastity perfume men          NaN              perfume\n",
       "3       pannar 15m sunflower          NaN                seeds\n",
       "4  motor rewinding induction          NaN             services"
      ]
     },
     "execution_count": 38,
     "metadata": {},
     "output_type": "execute_result"
    }
   ],
   "source": [
    "category_df = category_df.drop('sub_category', axis = 1).\\\n",
    "    rename(columns={'Sub category': 'sub_category'})\n",
    "category_df.head()"
   ]
  },
  {
   "cell_type": "code",
   "execution_count": 30,
   "metadata": {},
   "outputs": [
    {
     "data": {
      "text/html": [
       "<div>\n",
       "<style scoped>\n",
       "    .dataframe tbody tr th:only-of-type {\n",
       "        vertical-align: middle;\n",
       "    }\n",
       "\n",
       "    .dataframe tbody tr th {\n",
       "        vertical-align: top;\n",
       "    }\n",
       "\n",
       "    .dataframe thead th {\n",
       "        text-align: right;\n",
       "    }\n",
       "</style>\n",
       "<table border=\"1\" class=\"dataframe\">\n",
       "  <thead>\n",
       "    <tr style=\"text-align: right;\">\n",
       "      <th></th>\n",
       "      <th>product_name</th>\n",
       "      <th>sub_category</th>\n",
       "      <th>category_name</th>\n",
       "    </tr>\n",
       "  </thead>\n",
       "  <tbody>\n",
       "  </tbody>\n",
       "</table>\n",
       "</div>"
      ],
      "text/plain": [
       "Empty DataFrame\n",
       "Columns: [product_name, sub_category, category_name]\n",
       "Index: []"
      ]
     },
     "execution_count": 30,
     "metadata": {},
     "output_type": "execute_result"
    }
   ],
   "source": [
    "# category_df = category_df.drop_duplicates(subset=['product_name'], keep='last').reset_index(drop=True)\n",
    "category_df[category_df.duplicated(subset=['product_name'])]"
   ]
  },
  {
   "cell_type": "code",
   "execution_count": 31,
   "metadata": {},
   "outputs": [
    {
     "data": {
      "text/plain": [
       "product_name         0\n",
       "sub_category     21416\n",
       "category_name        0\n",
       "dtype: int64"
      ]
     },
     "execution_count": 31,
     "metadata": {},
     "output_type": "execute_result"
    }
   ],
   "source": [
    "category_df.isna().sum() # ---> Old"
   ]
  },
  {
   "cell_type": "code",
   "execution_count": 32,
   "metadata": {},
   "outputs": [
    {
     "data": {
      "text/plain": [
       "product_name         0\n",
       "sub_category     21416\n",
       "category_name        0\n",
       "dtype: int64"
      ]
     },
     "execution_count": 32,
     "metadata": {},
     "output_type": "execute_result"
    }
   ],
   "source": [
    "category_df.isna().sum() # ---> New"
   ]
  },
  {
   "cell_type": "code",
   "execution_count": 29,
   "metadata": {},
   "outputs": [],
   "source": [
    "# agrochem_df = category_df[category_df['category_name'] == 'agrochemicals']\n",
    "# agrochem_df.drop_duplicates(subset=['product_name'], keep='first', inplace=True)\n",
    "\n",
    "# x = agrochem_df[agrochem_df['sub_category'].isna()]\n",
    "# x.to_csv('Agrochemicals_without_subcategory.xlsx', index=False)"
   ]
  },
  {
   "cell_type": "code",
   "execution_count": 33,
   "metadata": {},
   "outputs": [
    {
     "data": {
      "text/html": [
       "<div>\n",
       "<style scoped>\n",
       "    .dataframe tbody tr th:only-of-type {\n",
       "        vertical-align: middle;\n",
       "    }\n",
       "\n",
       "    .dataframe tbody tr th {\n",
       "        vertical-align: top;\n",
       "    }\n",
       "\n",
       "    .dataframe thead th {\n",
       "        text-align: right;\n",
       "    }\n",
       "</style>\n",
       "<table border=\"1\" class=\"dataframe\">\n",
       "  <thead>\n",
       "    <tr style=\"text-align: right;\">\n",
       "      <th></th>\n",
       "      <th>product_name</th>\n",
       "      <th>sub_category</th>\n",
       "      <th>category_name</th>\n",
       "    </tr>\n",
       "  </thead>\n",
       "  <tbody>\n",
       "    <tr>\n",
       "      <th>0</th>\n",
       "      <td>gradometer 480 ec</td>\n",
       "      <td>NaN</td>\n",
       "      <td>hygiene</td>\n",
       "    </tr>\n",
       "    <tr>\n",
       "      <th>1</th>\n",
       "      <td>magazine east african</td>\n",
       "      <td>NaN</td>\n",
       "      <td>locall</td>\n",
       "    </tr>\n",
       "    <tr>\n",
       "      <th>2</th>\n",
       "      <td>vectoclor</td>\n",
       "      <td>NaN</td>\n",
       "      <td>veterinary products</td>\n",
       "    </tr>\n",
       "    <tr>\n",
       "      <th>3</th>\n",
       "      <td>chastity perfume men</td>\n",
       "      <td>NaN</td>\n",
       "      <td>perfume</td>\n",
       "    </tr>\n",
       "    <tr>\n",
       "      <th>4</th>\n",
       "      <td>pannar 15m sunflower</td>\n",
       "      <td>NaN</td>\n",
       "      <td>seeds</td>\n",
       "    </tr>\n",
       "    <tr>\n",
       "      <th>...</th>\n",
       "      <td>...</td>\n",
       "      <td>...</td>\n",
       "      <td>...</td>\n",
       "    </tr>\n",
       "    <tr>\n",
       "      <th>22590</th>\n",
       "      <td>ultramix maziwa bucket</td>\n",
       "      <td>NaN</td>\n",
       "      <td>minerals and supplements</td>\n",
       "    </tr>\n",
       "    <tr>\n",
       "      <th>22591</th>\n",
       "      <td>vitapoultry 100g</td>\n",
       "      <td>NaN</td>\n",
       "      <td>minerals and supplements</td>\n",
       "    </tr>\n",
       "    <tr>\n",
       "      <th>22592</th>\n",
       "      <td>vetpower milkreplacer</td>\n",
       "      <td>NaN</td>\n",
       "      <td>minerals and supplements</td>\n",
       "    </tr>\n",
       "    <tr>\n",
       "      <th>22593</th>\n",
       "      <td>vetlink multivitamin</td>\n",
       "      <td>NaN</td>\n",
       "      <td>minerals and supplements</td>\n",
       "    </tr>\n",
       "    <tr>\n",
       "      <th>22594</th>\n",
       "      <td>weed solution 500ml</td>\n",
       "      <td>NaN</td>\n",
       "      <td>minerals and supplements</td>\n",
       "    </tr>\n",
       "  </tbody>\n",
       "</table>\n",
       "<p>22595 rows × 3 columns</p>\n",
       "</div>"
      ],
      "text/plain": [
       "                 product_name sub_category             category_name\n",
       "0           gradometer 480 ec          NaN                   hygiene\n",
       "1       magazine east african          NaN                    locall\n",
       "2                   vectoclor          NaN       veterinary products\n",
       "3        chastity perfume men          NaN                   perfume\n",
       "4        pannar 15m sunflower          NaN                     seeds\n",
       "...                       ...          ...                       ...\n",
       "22590  ultramix maziwa bucket          NaN  minerals and supplements\n",
       "22591        vitapoultry 100g          NaN  minerals and supplements\n",
       "22592   vetpower milkreplacer          NaN  minerals and supplements\n",
       "22593    vetlink multivitamin          NaN  minerals and supplements\n",
       "22594     weed solution 500ml          NaN  minerals and supplements\n",
       "\n",
       "[22595 rows x 3 columns]"
      ]
     },
     "execution_count": 33,
     "metadata": {},
     "output_type": "execute_result"
    }
   ],
   "source": [
    "category_df"
   ]
  },
  {
   "cell_type": "code",
   "execution_count": 34,
   "metadata": {},
   "outputs": [
    {
     "data": {
      "text/html": [
       "<div>\n",
       "<style scoped>\n",
       "    .dataframe tbody tr th:only-of-type {\n",
       "        vertical-align: middle;\n",
       "    }\n",
       "\n",
       "    .dataframe tbody tr th {\n",
       "        vertical-align: top;\n",
       "    }\n",
       "\n",
       "    .dataframe thead th {\n",
       "        text-align: right;\n",
       "    }\n",
       "</style>\n",
       "<table border=\"1\" class=\"dataframe\">\n",
       "  <thead>\n",
       "    <tr style=\"text-align: right;\">\n",
       "      <th></th>\n",
       "      <th>product_name</th>\n",
       "      <th>sub_category</th>\n",
       "    </tr>\n",
       "  </thead>\n",
       "  <tbody>\n",
       "    <tr>\n",
       "      <th>0</th>\n",
       "      <td>lancer 130 sc</td>\n",
       "      <td>Insecticide</td>\n",
       "    </tr>\n",
       "    <tr>\n",
       "      <th>1</th>\n",
       "      <td>nature guard 525 wdg</td>\n",
       "      <td>Fungicide</td>\n",
       "    </tr>\n",
       "    <tr>\n",
       "      <th>2</th>\n",
       "      <td>vanguisher 26% wdg</td>\n",
       "      <td>Fungicide</td>\n",
       "    </tr>\n",
       "    <tr>\n",
       "      <th>3</th>\n",
       "      <td>elglysate 480sl</td>\n",
       "      <td>Herbicide</td>\n",
       "    </tr>\n",
       "    <tr>\n",
       "      <th>4</th>\n",
       "      <td>alwin gold 500mls</td>\n",
       "      <td>Fungicide</td>\n",
       "    </tr>\n",
       "  </tbody>\n",
       "</table>\n",
       "</div>"
      ],
      "text/plain": [
       "           product_name sub_category\n",
       "0         lancer 130 sc  Insecticide\n",
       "1  nature guard 525 wdg    Fungicide\n",
       "2    vanguisher 26% wdg    Fungicide\n",
       "3       elglysate 480sl    Herbicide\n",
       "4     alwin gold 500mls    Fungicide"
      ]
     },
     "execution_count": 34,
     "metadata": {},
     "output_type": "execute_result"
    }
   ],
   "source": [
    "sub_df = pd.read_csv('/home/natasha/Documents/Iprocure/Sales-Data-Cleanup/data/subcategories.csv')\n",
    "sub_df['product_name'] = sub_df['product_name'].apply(lambda x: x.lower().strip())\n",
    "sub_df.head()"
   ]
  },
  {
   "cell_type": "code",
   "execution_count": 35,
   "metadata": {},
   "outputs": [
    {
     "data": {
      "text/plain": [
       "product_name          0\n",
       "sub_category_x    21416\n",
       "category_name         0\n",
       "sub_category_y    22577\n",
       "dtype: int64"
      ]
     },
     "execution_count": 35,
     "metadata": {},
     "output_type": "execute_result"
    }
   ],
   "source": [
    "category_df = category_df.merge(sub_df, on='product_name', how='left')\n",
    "category_df.isna().sum()"
   ]
  },
  {
   "cell_type": "code",
   "execution_count": 36,
   "metadata": {},
   "outputs": [
    {
     "data": {
      "text/html": [
       "<div>\n",
       "<style scoped>\n",
       "    .dataframe tbody tr th:only-of-type {\n",
       "        vertical-align: middle;\n",
       "    }\n",
       "\n",
       "    .dataframe tbody tr th {\n",
       "        vertical-align: top;\n",
       "    }\n",
       "\n",
       "    .dataframe thead th {\n",
       "        text-align: right;\n",
       "    }\n",
       "</style>\n",
       "<table border=\"1\" class=\"dataframe\">\n",
       "  <thead>\n",
       "    <tr style=\"text-align: right;\">\n",
       "      <th></th>\n",
       "      <th>product_name</th>\n",
       "      <th>sub_category_x</th>\n",
       "      <th>category_name</th>\n",
       "      <th>sub_category_y</th>\n",
       "    </tr>\n",
       "  </thead>\n",
       "  <tbody>\n",
       "    <tr>\n",
       "      <th>0</th>\n",
       "      <td>gradometer 480 ec</td>\n",
       "      <td>NaN</td>\n",
       "      <td>hygiene</td>\n",
       "      <td>NaN</td>\n",
       "    </tr>\n",
       "    <tr>\n",
       "      <th>1</th>\n",
       "      <td>magazine east african</td>\n",
       "      <td>NaN</td>\n",
       "      <td>locall</td>\n",
       "      <td>NaN</td>\n",
       "    </tr>\n",
       "    <tr>\n",
       "      <th>2</th>\n",
       "      <td>vectoclor</td>\n",
       "      <td>NaN</td>\n",
       "      <td>veterinary products</td>\n",
       "      <td>NaN</td>\n",
       "    </tr>\n",
       "    <tr>\n",
       "      <th>3</th>\n",
       "      <td>chastity perfume men</td>\n",
       "      <td>NaN</td>\n",
       "      <td>perfume</td>\n",
       "      <td>NaN</td>\n",
       "    </tr>\n",
       "    <tr>\n",
       "      <th>4</th>\n",
       "      <td>pannar 15m sunflower</td>\n",
       "      <td>NaN</td>\n",
       "      <td>seeds</td>\n",
       "      <td>NaN</td>\n",
       "    </tr>\n",
       "    <tr>\n",
       "      <th>...</th>\n",
       "      <td>...</td>\n",
       "      <td>...</td>\n",
       "      <td>...</td>\n",
       "      <td>...</td>\n",
       "    </tr>\n",
       "    <tr>\n",
       "      <th>22590</th>\n",
       "      <td>ultramix maziwa bucket</td>\n",
       "      <td>NaN</td>\n",
       "      <td>minerals and supplements</td>\n",
       "      <td>NaN</td>\n",
       "    </tr>\n",
       "    <tr>\n",
       "      <th>22591</th>\n",
       "      <td>vitapoultry 100g</td>\n",
       "      <td>NaN</td>\n",
       "      <td>minerals and supplements</td>\n",
       "      <td>NaN</td>\n",
       "    </tr>\n",
       "    <tr>\n",
       "      <th>22592</th>\n",
       "      <td>vetpower milkreplacer</td>\n",
       "      <td>NaN</td>\n",
       "      <td>minerals and supplements</td>\n",
       "      <td>NaN</td>\n",
       "    </tr>\n",
       "    <tr>\n",
       "      <th>22593</th>\n",
       "      <td>vetlink multivitamin</td>\n",
       "      <td>NaN</td>\n",
       "      <td>minerals and supplements</td>\n",
       "      <td>NaN</td>\n",
       "    </tr>\n",
       "    <tr>\n",
       "      <th>22594</th>\n",
       "      <td>weed solution 500ml</td>\n",
       "      <td>NaN</td>\n",
       "      <td>minerals and supplements</td>\n",
       "      <td>NaN</td>\n",
       "    </tr>\n",
       "  </tbody>\n",
       "</table>\n",
       "<p>22595 rows × 4 columns</p>\n",
       "</div>"
      ],
      "text/plain": [
       "                 product_name sub_category_x             category_name   \n",
       "0           gradometer 480 ec            NaN                   hygiene  \\\n",
       "1       magazine east african            NaN                    locall   \n",
       "2                   vectoclor            NaN       veterinary products   \n",
       "3        chastity perfume men            NaN                   perfume   \n",
       "4        pannar 15m sunflower            NaN                     seeds   \n",
       "...                       ...            ...                       ...   \n",
       "22590  ultramix maziwa bucket            NaN  minerals and supplements   \n",
       "22591        vitapoultry 100g            NaN  minerals and supplements   \n",
       "22592   vetpower milkreplacer            NaN  minerals and supplements   \n",
       "22593    vetlink multivitamin            NaN  minerals and supplements   \n",
       "22594     weed solution 500ml            NaN  minerals and supplements   \n",
       "\n",
       "      sub_category_y  \n",
       "0                NaN  \n",
       "1                NaN  \n",
       "2                NaN  \n",
       "3                NaN  \n",
       "4                NaN  \n",
       "...              ...  \n",
       "22590            NaN  \n",
       "22591            NaN  \n",
       "22592            NaN  \n",
       "22593            NaN  \n",
       "22594            NaN  \n",
       "\n",
       "[22595 rows x 4 columns]"
      ]
     },
     "execution_count": 36,
     "metadata": {},
     "output_type": "execute_result"
    }
   ],
   "source": [
    "category_df"
   ]
  },
  {
   "cell_type": "code",
   "execution_count": 37,
   "metadata": {},
   "outputs": [
    {
     "data": {
      "text/plain": [
       "product_name          0\n",
       "sub_category_x    21398\n",
       "category_name         0\n",
       "sub_category_y    22577\n",
       "dtype: int64"
      ]
     },
     "execution_count": 37,
     "metadata": {},
     "output_type": "execute_result"
    }
   ],
   "source": [
    "category_df['sub_category_x'] = np.where(category_df['sub_category_x'].isna(), category_df['sub_category_y'], category_df['sub_category_x'])\n",
    "category_df.isna().sum()"
   ]
  },
  {
   "cell_type": "code",
   "execution_count": 38,
   "metadata": {},
   "outputs": [
    {
     "data": {
      "text/html": [
       "<div>\n",
       "<style scoped>\n",
       "    .dataframe tbody tr th:only-of-type {\n",
       "        vertical-align: middle;\n",
       "    }\n",
       "\n",
       "    .dataframe tbody tr th {\n",
       "        vertical-align: top;\n",
       "    }\n",
       "\n",
       "    .dataframe thead th {\n",
       "        text-align: right;\n",
       "    }\n",
       "</style>\n",
       "<table border=\"1\" class=\"dataframe\">\n",
       "  <thead>\n",
       "    <tr style=\"text-align: right;\">\n",
       "      <th></th>\n",
       "      <th>product_name</th>\n",
       "      <th>sub_category</th>\n",
       "      <th>category_name</th>\n",
       "    </tr>\n",
       "  </thead>\n",
       "  <tbody>\n",
       "    <tr>\n",
       "      <th>0</th>\n",
       "      <td>gradometer 480 ec</td>\n",
       "      <td>NaN</td>\n",
       "      <td>hygiene</td>\n",
       "    </tr>\n",
       "    <tr>\n",
       "      <th>1</th>\n",
       "      <td>magazine east african</td>\n",
       "      <td>NaN</td>\n",
       "      <td>locall</td>\n",
       "    </tr>\n",
       "    <tr>\n",
       "      <th>2</th>\n",
       "      <td>vectoclor</td>\n",
       "      <td>NaN</td>\n",
       "      <td>veterinary products</td>\n",
       "    </tr>\n",
       "    <tr>\n",
       "      <th>3</th>\n",
       "      <td>chastity perfume men</td>\n",
       "      <td>NaN</td>\n",
       "      <td>perfume</td>\n",
       "    </tr>\n",
       "    <tr>\n",
       "      <th>4</th>\n",
       "      <td>pannar 15m sunflower</td>\n",
       "      <td>NaN</td>\n",
       "      <td>seeds</td>\n",
       "    </tr>\n",
       "    <tr>\n",
       "      <th>...</th>\n",
       "      <td>...</td>\n",
       "      <td>...</td>\n",
       "      <td>...</td>\n",
       "    </tr>\n",
       "    <tr>\n",
       "      <th>22590</th>\n",
       "      <td>ultramix maziwa bucket</td>\n",
       "      <td>NaN</td>\n",
       "      <td>minerals and supplements</td>\n",
       "    </tr>\n",
       "    <tr>\n",
       "      <th>22591</th>\n",
       "      <td>vitapoultry 100g</td>\n",
       "      <td>NaN</td>\n",
       "      <td>minerals and supplements</td>\n",
       "    </tr>\n",
       "    <tr>\n",
       "      <th>22592</th>\n",
       "      <td>vetpower milkreplacer</td>\n",
       "      <td>NaN</td>\n",
       "      <td>minerals and supplements</td>\n",
       "    </tr>\n",
       "    <tr>\n",
       "      <th>22593</th>\n",
       "      <td>vetlink multivitamin</td>\n",
       "      <td>NaN</td>\n",
       "      <td>minerals and supplements</td>\n",
       "    </tr>\n",
       "    <tr>\n",
       "      <th>22594</th>\n",
       "      <td>weed solution 500ml</td>\n",
       "      <td>NaN</td>\n",
       "      <td>minerals and supplements</td>\n",
       "    </tr>\n",
       "  </tbody>\n",
       "</table>\n",
       "<p>22595 rows × 3 columns</p>\n",
       "</div>"
      ],
      "text/plain": [
       "                 product_name sub_category             category_name\n",
       "0           gradometer 480 ec          NaN                   hygiene\n",
       "1       magazine east african          NaN                    locall\n",
       "2                   vectoclor          NaN       veterinary products\n",
       "3        chastity perfume men          NaN                   perfume\n",
       "4        pannar 15m sunflower          NaN                     seeds\n",
       "...                       ...          ...                       ...\n",
       "22590  ultramix maziwa bucket          NaN  minerals and supplements\n",
       "22591        vitapoultry 100g          NaN  minerals and supplements\n",
       "22592   vetpower milkreplacer          NaN  minerals and supplements\n",
       "22593    vetlink multivitamin          NaN  minerals and supplements\n",
       "22594     weed solution 500ml          NaN  minerals and supplements\n",
       "\n",
       "[22595 rows x 3 columns]"
      ]
     },
     "execution_count": 38,
     "metadata": {},
     "output_type": "execute_result"
    }
   ],
   "source": [
    "category_df = category_df.drop('sub_category_y', axis = 1).\\\n",
    "    rename(columns={'sub_category_x': 'sub_category'})\n",
    "category_df"
   ]
  },
  {
   "cell_type": "code",
   "execution_count": 39,
   "metadata": {},
   "outputs": [
    {
     "data": {
      "text/plain": [
       "product_name         0\n",
       "sub_category     21398\n",
       "category_name        0\n",
       "dtype: int64"
      ]
     },
     "execution_count": 39,
     "metadata": {},
     "output_type": "execute_result"
    }
   ],
   "source": [
    "category_df.isna().sum()"
   ]
  },
  {
   "cell_type": "code",
   "execution_count": 40,
   "metadata": {},
   "outputs": [],
   "source": [
    "category_df.to_csv('clean_categories.csv', index=False)"
   ]
  },
  {
   "cell_type": "code",
   "execution_count": 41,
   "metadata": {},
   "outputs": [
    {
     "data": {
      "text/html": [
       "<div>\n",
       "<style scoped>\n",
       "    .dataframe tbody tr th:only-of-type {\n",
       "        vertical-align: middle;\n",
       "    }\n",
       "\n",
       "    .dataframe tbody tr th {\n",
       "        vertical-align: top;\n",
       "    }\n",
       "\n",
       "    .dataframe thead th {\n",
       "        text-align: right;\n",
       "    }\n",
       "</style>\n",
       "<table border=\"1\" class=\"dataframe\">\n",
       "  <thead>\n",
       "    <tr style=\"text-align: right;\">\n",
       "      <th></th>\n",
       "      <th>product_name</th>\n",
       "      <th>sub_category</th>\n",
       "      <th>category_name</th>\n",
       "    </tr>\n",
       "  </thead>\n",
       "  <tbody>\n",
       "    <tr>\n",
       "      <th>878</th>\n",
       "      <td>seal</td>\n",
       "      <td>NaN</td>\n",
       "      <td>air and fuel delivery</td>\n",
       "    </tr>\n",
       "    <tr>\n",
       "      <th>6602</th>\n",
       "      <td>17801 air cleaner</td>\n",
       "      <td>NaN</td>\n",
       "      <td>air and fuel delivery</td>\n",
       "    </tr>\n",
       "    <tr>\n",
       "      <th>11672</th>\n",
       "      <td>cabin filter 87139</td>\n",
       "      <td>NaN</td>\n",
       "      <td>air and fuel delivery</td>\n",
       "    </tr>\n",
       "    <tr>\n",
       "      <th>17747</th>\n",
       "      <td>90915 10001 oil</td>\n",
       "      <td>NaN</td>\n",
       "      <td>air and fuel delivery</td>\n",
       "    </tr>\n",
       "  </tbody>\n",
       "</table>\n",
       "</div>"
      ],
      "text/plain": [
       "             product_name sub_category          category_name\n",
       "878                  seal          NaN  air and fuel delivery\n",
       "6602    17801 air cleaner          NaN  air and fuel delivery\n",
       "11672  cabin filter 87139          NaN  air and fuel delivery\n",
       "17747     90915 10001 oil          NaN  air and fuel delivery"
      ]
     },
     "execution_count": 41,
     "metadata": {},
     "output_type": "execute_result"
    }
   ],
   "source": [
    "category_df[category_df['category_name'] == 'air and fuel delivery']"
   ]
  },
  {
   "cell_type": "code",
   "execution_count": 42,
   "metadata": {},
   "outputs": [
    {
     "data": {
      "text/html": [
       "<div>\n",
       "<style scoped>\n",
       "    .dataframe tbody tr th:only-of-type {\n",
       "        vertical-align: middle;\n",
       "    }\n",
       "\n",
       "    .dataframe tbody tr th {\n",
       "        vertical-align: top;\n",
       "    }\n",
       "\n",
       "    .dataframe thead th {\n",
       "        text-align: right;\n",
       "    }\n",
       "</style>\n",
       "<table border=\"1\" class=\"dataframe\">\n",
       "  <thead>\n",
       "    <tr style=\"text-align: right;\">\n",
       "      <th></th>\n",
       "      <th>product_name</th>\n",
       "      <th>category_name</th>\n",
       "      <th>sub_category</th>\n",
       "    </tr>\n",
       "  </thead>\n",
       "  <tbody>\n",
       "    <tr>\n",
       "      <th>0</th>\n",
       "      <td>gradometer 480 ec</td>\n",
       "      <td>Local</td>\n",
       "      <td>NaN</td>\n",
       "    </tr>\n",
       "    <tr>\n",
       "      <th>1</th>\n",
       "      <td>magazine east african</td>\n",
       "      <td>locall</td>\n",
       "      <td>NaN</td>\n",
       "    </tr>\n",
       "    <tr>\n",
       "      <th>2</th>\n",
       "      <td>vectoclor</td>\n",
       "      <td>VETERINARY PRODUCTS</td>\n",
       "      <td>NaN</td>\n",
       "    </tr>\n",
       "    <tr>\n",
       "      <th>3</th>\n",
       "      <td>chastity perfume men</td>\n",
       "      <td>Perfume</td>\n",
       "      <td>NaN</td>\n",
       "    </tr>\n",
       "    <tr>\n",
       "      <th>4</th>\n",
       "      <td>pannar 15m sunflower</td>\n",
       "      <td>seeds</td>\n",
       "      <td>NaN</td>\n",
       "    </tr>\n",
       "  </tbody>\n",
       "</table>\n",
       "</div>"
      ],
      "text/plain": [
       "            product_name        category_name sub_category\n",
       "0      gradometer 480 ec                Local          NaN\n",
       "1  magazine east african               locall          NaN\n",
       "2              vectoclor  VETERINARY PRODUCTS          NaN\n",
       "3   chastity perfume men              Perfume          NaN\n",
       "4   pannar 15m sunflower                seeds          NaN"
      ]
     },
     "execution_count": 42,
     "metadata": {},
     "output_type": "execute_result"
    }
   ],
   "source": [
    "# loading category data\n",
    "df = pd.read_csv('/home/natasha/Documents/Iprocure/Clustering-for-Product-Matching/data/data_v2/dirty_category_data.csv')\n",
    "\n",
    "# dropping duplicates and renaning col\n",
    "df = df.drop_duplicates(subset=['correct_product_match'], keep='first').reset_index(drop=True)\n",
    "df.rename(columns={'correct_product_match': 'product_name'},inplace=True)\n",
    "df.head()"
   ]
  },
  {
   "cell_type": "code",
   "execution_count": 43,
   "metadata": {},
   "outputs": [],
   "source": [
    "df[['category_name', 'product_name']] = df[['category_name', 'product_name']].applymap(lambda x: str(x).lower())"
   ]
  },
  {
   "cell_type": "code",
   "execution_count": 45,
   "metadata": {},
   "outputs": [
    {
     "data": {
      "text/html": [
       "<div>\n",
       "<style scoped>\n",
       "    .dataframe tbody tr th:only-of-type {\n",
       "        vertical-align: middle;\n",
       "    }\n",
       "\n",
       "    .dataframe tbody tr th {\n",
       "        vertical-align: top;\n",
       "    }\n",
       "\n",
       "    .dataframe thead th {\n",
       "        text-align: right;\n",
       "    }\n",
       "</style>\n",
       "<table border=\"1\" class=\"dataframe\">\n",
       "  <thead>\n",
       "    <tr style=\"text-align: right;\">\n",
       "      <th></th>\n",
       "      <th>product_name</th>\n",
       "      <th>category_name</th>\n",
       "      <th>sub_category</th>\n",
       "    </tr>\n",
       "  </thead>\n",
       "  <tbody>\n",
       "    <tr>\n",
       "      <th>69</th>\n",
       "      <td>tabs cream</td>\n",
       "      <td>fungocide</td>\n",
       "      <td>NaN</td>\n",
       "    </tr>\n",
       "  </tbody>\n",
       "</table>\n",
       "</div>"
      ],
      "text/plain": [
       "   product_name category_name sub_category\n",
       "69   tabs cream     fungocide          NaN"
      ]
     },
     "execution_count": 45,
     "metadata": {},
     "output_type": "execute_result"
    }
   ],
   "source": [
    "df[df['category_name'] == 'fungocide']"
   ]
  },
  {
   "cell_type": "code",
   "execution_count": null,
   "metadata": {},
   "outputs": [],
   "source": []
  }
 ],
 "metadata": {
  "kernelspec": {
   "display_name": "Python 3",
   "language": "python",
   "name": "python3"
  },
  "language_info": {
   "codemirror_mode": {
    "name": "ipython",
    "version": 3
   },
   "file_extension": ".py",
   "mimetype": "text/x-python",
   "name": "python",
   "nbconvert_exporter": "python",
   "pygments_lexer": "ipython3",
   "version": "3.10.12"
  },
  "orig_nbformat": 4
 },
 "nbformat": 4,
 "nbformat_minor": 2
}
